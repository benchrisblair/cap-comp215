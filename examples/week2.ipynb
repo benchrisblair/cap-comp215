{
  "nbformat": 4,
  "nbformat_minor": 0,
  "metadata": {
    "colab": {
      "name": "week2.ipynb",
      "provenance": [],
      "include_colab_link": true
    },
    "kernelspec": {
      "name": "python3",
      "display_name": "Python 3"
    },
    "language_info": {
      "name": "python"
    }
  },
  "cells": [
    {
      "cell_type": "markdown",
      "metadata": {
        "id": "view-in-github",
        "colab_type": "text"
      },
      "source": [
        "<a href=\"https://colab.research.google.com/github/benchrisblair/cap-comp215/blob/main/examples/week2.ipynb\" target=\"_parent\"><img src=\"https://colab.research.google.com/assets/colab-badge.svg\" alt=\"Open In Colab\"/></a>"
      ]
    },
    {
      "cell_type": "markdown",
      "source": [
        "# Sequence and Map Data Structures - Strings, Tuples, Lists, Dictionaries\n",
        "This is our week 2 examples notebook and will be available on Github from the powderflask/cap-comp215 repository.\n",
        "\n",
        "As usual, the first code block just imports the modules we will use."
      ],
      "metadata": {
        "id": "WBMC0GrjNRTM"
      }
    },
    {
      "cell_type": "code",
      "execution_count": 16,
      "metadata": {
        "id": "C1a6aDXAM0WM"
      },
      "outputs": [],
      "source": [
        "import datetime\n",
        "import matplotlib.pyplot as plt\n",
        "import  matplotlib.dates as mdates\n",
        "from pprint import pprint"
      ]
    },
    {
      "cell_type": "markdown",
      "source": [
        "## f-strings\n",
        "A `string` is a sequence of characters / symbols.\n",
        "This familiar data structure is quite powerful, and format-strings (f-strings) take it to the next level..."
      ],
      "metadata": {
        "collapsed": false,
        "pycharm": {
          "name": "#%% md\n"
        },
        "id": "QX1sApd_HWC5"
      }
    },
    {
      "cell_type": "code",
      "execution_count": null,
      "outputs": [
        {
          "output_type": "execute_result",
          "data": {
            "text/plain": [
              "'15/01/2023 is not special, but 42 and 3.14 are!'"
            ],
            "application/vnd.google.colaboratory.intrinsic+json": {
              "type": "string"
            }
          },
          "metadata": {},
          "execution_count": 2
        }
      ],
      "source": [
        "today = datetime.date.today()\n",
        "the_answer = 42\n",
        "PI = 3.1415926535\n",
        "\n",
        "f'{today:%d/%m/%Y} is not special, but {the_answer} and {PI:0.2f} are!'"
      ],
      "metadata": {
        "pycharm": {
          "name": "#%%\n"
        },
        "colab": {
          "base_uri": "https://localhost:8080/",
          "height": 35
        },
        "id": "jIH0F02mHWC7",
        "outputId": "311781ec-0c1d-4ec5-fcc4-d0a0bcba7434"
      }
    },
    {
      "cell_type": "markdown",
      "source": [
        "## List Comprehension\n",
        "Provides a compact syntax for two very common sequence-processing algorithms:  Map  and Filter\n",
        "\n",
        "Basic syntax:"
      ],
      "metadata": {
        "id": "k70NJ-JTNwYN"
      }
    },
    {
      "cell_type": "code",
      "source": [
        "# [i for i in range(10)]\n",
        "\n",
        "# [2*i if i%2==0 else 3*i if i%3==0 else i*4]\n",
        "\n",
        "def calculate_it(val):\n",
        "    return 2*val if val%2==0 else 3*val if val%3==0 else val*4\n",
        "\n",
        "# [calculate_it(i) for i in range(0, 100)]\n",
        "\n",
        "from collections import defaultdict\n",
        "\n",
        "def counter_factory(): # can replace this factory function with lamda : 0 in defaultdict\n",
        "    return 0\n",
        "\n",
        "counts = defaultdict(lambda : 0)  # note: we're not calling counter_factory so we don't need to include the parentheses\n",
        "for i in range(0, 100):\n",
        "    counts[calculate_it(i)] += 1\n",
        "\n",
        "counts\n",
        "\n",
        "# Can also do dictionary comprehensions which show mapping more explicitly\n",
        "# {i:calculate_it(i) for i in range(0, 100)}\n",
        "\n",
        "# Can also do set comprehensions with no duplicates\n",
        "# {calculate_it(i) for i in range(0, 100)}"
      ],
      "metadata": {
        "id": "HZSz8IftqJ72",
        "colab": {
          "base_uri": "https://localhost:8080/"
        },
        "outputId": "44fe3ad1-c31f-4e3b-b9be-db4d749a0dcb"
      },
      "execution_count": 14,
      "outputs": [
        {
          "output_type": "execute_result",
          "data": {
            "text/plain": [
              "defaultdict(<function __main__.<lambda>()>,\n",
              "            {0: 1,\n",
              "             4: 2,\n",
              "             9: 1,\n",
              "             8: 1,\n",
              "             20: 2,\n",
              "             12: 1,\n",
              "             28: 2,\n",
              "             16: 1,\n",
              "             27: 1,\n",
              "             44: 2,\n",
              "             24: 1,\n",
              "             52: 2,\n",
              "             45: 1,\n",
              "             32: 1,\n",
              "             68: 2,\n",
              "             36: 1,\n",
              "             76: 2,\n",
              "             40: 1,\n",
              "             63: 1,\n",
              "             92: 2,\n",
              "             48: 1,\n",
              "             100: 2,\n",
              "             81: 1,\n",
              "             56: 1,\n",
              "             116: 2,\n",
              "             60: 1,\n",
              "             124: 2,\n",
              "             64: 1,\n",
              "             99: 1,\n",
              "             140: 2,\n",
              "             72: 1,\n",
              "             148: 2,\n",
              "             117: 1,\n",
              "             80: 1,\n",
              "             164: 2,\n",
              "             84: 1,\n",
              "             172: 2,\n",
              "             88: 1,\n",
              "             135: 1,\n",
              "             188: 2,\n",
              "             96: 1,\n",
              "             196: 2,\n",
              "             153: 1,\n",
              "             104: 1,\n",
              "             212: 1,\n",
              "             108: 1,\n",
              "             220: 1,\n",
              "             112: 1,\n",
              "             171: 1,\n",
              "             236: 1,\n",
              "             120: 1,\n",
              "             244: 1,\n",
              "             189: 1,\n",
              "             128: 1,\n",
              "             260: 1,\n",
              "             132: 1,\n",
              "             268: 1,\n",
              "             136: 1,\n",
              "             207: 1,\n",
              "             284: 1,\n",
              "             144: 1,\n",
              "             292: 1,\n",
              "             225: 1,\n",
              "             152: 1,\n",
              "             308: 1,\n",
              "             156: 1,\n",
              "             316: 1,\n",
              "             160: 1,\n",
              "             243: 1,\n",
              "             332: 1,\n",
              "             168: 1,\n",
              "             340: 1,\n",
              "             261: 1,\n",
              "             176: 1,\n",
              "             356: 1,\n",
              "             180: 1,\n",
              "             364: 1,\n",
              "             184: 1,\n",
              "             279: 1,\n",
              "             380: 1,\n",
              "             192: 1,\n",
              "             388: 1,\n",
              "             297: 1})"
            ]
          },
          "metadata": {},
          "execution_count": 14
        }
      ]
    },
    {
      "cell_type": "markdown",
      "source": [
        "### Map Algorithm\n",
        "Apply the same function to every item in another sequence (i.e., provide a \"mapping\" from the source sequence to the target)"
      ],
      "metadata": {
        "collapsed": false,
        "pycharm": {
          "name": "#%% md\n"
        },
        "id": "85ix7Jq2HWC_"
      }
    },
    {
      "cell_type": "code",
      "execution_count": null,
      "outputs": [
        {
          "output_type": "execute_result",
          "data": {
            "text/plain": [
              "[1, 4, 9, 16, 25, 36, 49, 64, 81, 100]"
            ]
          },
          "metadata": {},
          "execution_count": 4
        }
      ],
      "source": [
        "# Problem: compute the first 10 natural squares\n",
        "[x**2 for x in range(1,11)]"
      ],
      "metadata": {
        "pycharm": {
          "name": "#%%\n"
        },
        "colab": {
          "base_uri": "https://localhost:8080/"
        },
        "id": "elBgseh_HWC_",
        "outputId": "c4cc304f-b8f1-4676-bf61-b277848ead7c"
      }
    },
    {
      "cell_type": "markdown",
      "source": [
        "### Filter\n",
        "Select a sub-set of the elements from another sequence based on some criteria."
      ],
      "metadata": {
        "collapsed": false,
        "pycharm": {
          "name": "#%% md\n"
        },
        "id": "QhZ2fWNRHWDA"
      }
    },
    {
      "cell_type": "code",
      "execution_count": null,
      "outputs": [
        {
          "output_type": "stream",
          "name": "stdout",
          "text": [
            "o, e, i, u, o, o, i, a, e, o, e, e, u, a, i, i, i, e, i, e, o, e, i, u, o, e, o, i, i, i, u, u, a, o, e, e, o, o, e, a, a, a, i, u, a, U, e, i, a, i, i, e, i, a, u, i, o, u, e, e, i, a, i, o, u, a, o, a, o, i, i, i, u, a, i, u, i, e, e, a, o, o, o, o, e, u, a\n",
            "['o', 'e', 'i', 'u', 'a', 'U']\n"
          ]
        }
      ],
      "source": [
        "VOWELS = 'aeiouAEIOU'\n",
        "text = '''\n",
        "Lorem ipsum dolor sit amet, consectetur adipiscing elit, sed do eiusmod tempor incididunt ut labore et dolore magna aliqua. Ut enim ad minim veniam, quis nostrud exercitation ullamco laboris nisi ut aliquip ex ea commodo consequat.\n",
        "'''\n",
        "# Problem: create a string with just the vowels from the text, in order.\n",
        "list_of_vowels = [char for char in text if char in VOWELS]\n",
        "\n",
        "delimiter = ', '\n",
        "str_of_vowels = delimiter.join(list_of_vowels)\n",
        "print(str_of_vowels)\n",
        "\n",
        "vowels_seen = set()\n",
        "def is_seen(char):\n",
        "  if char in vowels_seen:\n",
        "    return True\n",
        "  else:\n",
        "    vowels_seen.add(char)\n",
        "    return False\n",
        "\n",
        "# [vowel for vowel in list_of_vowels if not is_seen(vowel)] --> replace list comprehensions with side effects using loops (as seen below)\n",
        "\n",
        "unique_vowels = []\n",
        "# for vowel in list_of_vowels:\n",
        "#   if not is_seen(vowel):\n",
        "#     unique_vowels.append(vowel)\n",
        "for vowel in list_of_vowels:\n",
        "  if vowel in VOWELS and vowel not in vowels_seen:\n",
        "    vowels_seen.add(vowel)\n",
        "    unique_vowels.append(vowel)\n",
        "\n",
        "print(unique_vowels)"
      ],
      "metadata": {
        "pycharm": {
          "name": "#%%\n"
        },
        "colab": {
          "base_uri": "https://localhost:8080/"
        },
        "id": "HL-_nmSSHWDA",
        "outputId": "d644f8c1-e46f-4c5a-9f77-46e5fd82a296"
      }
    },
    {
      "cell_type": "markdown",
      "source": [
        "## Data Wrangling with List Comprehension\n",
        "E-learn's Live Quiz module tracks quiz scores for each student, but does not store them in the gradebook, and instead reports them in the most useless way.\n",
        "\n",
        "Let's do some \"data wrangling\" to make sense out of this mess!\n",
        "\n",
        "### The Problem: Unstructured Data!\n",
        "Notice it is just a single large string! The real data set has 36 students, and I need to do this every week!"
      ],
      "metadata": {
        "collapsed": false,
        "pycharm": {
          "name": "#%% md\n"
        },
        "id": "dSh-h1K1HWDA"
      }
    },
    {
      "cell_type": "code",
      "execution_count": null,
      "outputs": [],
      "source": [
        "quiz_scores = \"\"\"\n",
        "  1.                 Ali Oop scored  7/ 8 = 87%\n",
        "\n",
        "\n",
        "  2.          Alison Ralison scored  8/ 8 = 100%\n",
        "\n",
        "\n",
        "  3.         Ambily Piturbed scored  8/ 8 = 100%\n",
        "\n",
        "\n",
        "  4.  Arshan Risnot Farquared scored  5/ 8 = 62%\n",
        "\n",
        "\n",
        "  5.       Ayushma Jugernaugh scored  5/ 8 = 62%\n",
        "\n",
        "\n",
        "  6.       Brayden Labaguette scored  7/ 8 = 87%\n",
        "\"\"\""
      ],
      "metadata": {
        "pycharm": {
          "name": "#%%\n"
        },
        "id": "e7Dj-sAKHWDB"
      }
    },
    {
      "cell_type": "markdown",
      "source": [
        "### Goal\n",
        "Turn this into structured data: a list of 2-tuples, each student's full name and their integer score."
      ],
      "metadata": {
        "collapsed": false,
        "pycharm": {
          "name": "#%% md\n"
        },
        "id": "WnHTfUbDHWDB"
      }
    },
    {
      "cell_type": "code",
      "execution_count": null,
      "outputs": [
        {
          "output_type": "execute_result",
          "data": {
            "text/plain": [
              "[('Ali Oop', 7),\n",
              " ('Alison Ralison', 8),\n",
              " ('Ambily Piturbed', 8),\n",
              " ('Arshan Risnot Farquared', 5),\n",
              " ('Ayushma Jugernaugh', 5),\n",
              " ('Brayden Labaguette', 7)]"
            ]
          },
          "metadata": {},
          "execution_count": 16
        }
      ],
      "source": [
        "lines = [line.split()[1:-3] for line in quiz_scores.split('\\n') if line]\n",
        "scores = [(' '.join(line[:-2]), int(line[-1][:-1])) for line in lines]\n",
        "scores"
      ],
      "metadata": {
        "pycharm": {
          "name": "#%%\n"
        },
        "colab": {
          "base_uri": "https://localhost:8080/"
        },
        "id": "UrggoUdoHWDC",
        "outputId": "14286275-4a39-458c-9cd0-dd88a14fabc4"
      }
    },
    {
      "cell_type": "markdown",
      "source": [
        "## Records\n",
        "A *record* is a compound data value - a collection of simpler data values (fields) that all describe a single entity.\n",
        "\n",
        " * tuple\n",
        " * dictionary\n",
        " * object\n",
        "\n",
        "Problem: develop the data representation for a `student` in a student record system,\n",
        "where a `student` has a first and last name, student id, and date of birth"
      ],
      "metadata": {
        "collapsed": false,
        "id": "vXuRA1mDHWDC"
      }
    },
    {
      "cell_type": "code",
      "source": [
        "# Tuple\n",
        "tuple_students = [\n",
        "    ('Bob', '', 'Squarepants', 123456789, datetime.date(year=1994, month=2, day=25)),\n",
        "    ('Dora', 'The', 'Explora', 192837465, datetime.date(year=2000, month=8, day=14))\n",
        "]\n",
        "\n",
        "s = tuple_students[-1]\n",
        "s[4]  # must know that the DOB is at index 4 to access the correct data\n",
        "age = datetime.date.today() - s[4]  # calculate age in days\n",
        "age.days // 365  # calculate age in years\n",
        "\n",
        "# Dictionary\n",
        "dict_students = [\n",
        "    {\n",
        "        'first': 'Bob',\n",
        "        'middle': '',\n",
        "        'last': 'Squarepants',\n",
        "        'sn': 123456789,\n",
        "        'dob': datetime.date(year=1994, month=2, day=25)\n",
        "    },\n",
        "    {\n",
        "        'first': 'Dora',\n",
        "        'middle': 'The',\n",
        "        'last': 'Explora',\n",
        "        'sn': 192837465,\n",
        "        'dob': datetime.date(year=2000, month=8, day=14)\n",
        "    }\n",
        "]\n",
        "\n",
        "s = dict_students[-1]\n",
        "s['dob']\n",
        "\n",
        "students = [\n",
        "    {'first':s[0], 'middle':s[1], 'last':s[2], 'sn':s[3], 'dob':s[4]} for s in tuple_students\n",
        "]\n",
        "students"
      ],
      "metadata": {
        "id": "Ai9qb3Bolw4h",
        "outputId": "829f5049-ace1-4e1a-d676-780d2fab26d3",
        "colab": {
          "base_uri": "https://localhost:8080/"
        }
      },
      "execution_count": 32,
      "outputs": [
        {
          "output_type": "execute_result",
          "data": {
            "text/plain": [
              "[{'first': 'Bob',\n",
              "  'middle': '',\n",
              "  'last': 'Squarepants',\n",
              "  'sn': 123456789,\n",
              "  'dob': datetime.date(1994, 2, 25)},\n",
              " {'first': 'Dora',\n",
              "  'middle': 'The',\n",
              "  'last': 'Explora',\n",
              "  'sn': 192837465,\n",
              "  'dob': datetime.date(2000, 8, 14)}]"
            ]
          },
          "metadata": {},
          "execution_count": 32
        }
      ]
    },
    {
      "cell_type": "code",
      "source": [
        "# Objects\n",
        "from dataclasses import dataclass\n",
        "\n",
        "@dataclass\n",
        "class Student:\n",
        "    first: str\n",
        "    middle: str\n",
        "    last: str\n",
        "    sn: int\n",
        "    dob: datetime.date\n",
        "\n",
        "    def full_name(self):\n",
        "        return f'{self.first} {self.last}'\n",
        "\n",
        "students = [\n",
        "    Student('Bob', '', 'Squarepants', 123456789, datetime.date(year=1994, month=2, day=25)),\n",
        "    Student('Dora', 'The', 'Explora', 192837465, datetime.date(year=2000, month=8, day=14))\n",
        "]\n",
        "\n",
        "dora = [s for s in students if s.first=='Dora'][0]\n",
        "dora.full_name()"
      ],
      "metadata": {
        "id": "xwkqbeBJ-Vco",
        "outputId": "df9bf486-122a-4cc5-84e2-b0ecfbb1da95",
        "colab": {
          "base_uri": "https://localhost:8080/",
          "height": 35
        }
      },
      "execution_count": 39,
      "outputs": [
        {
          "output_type": "execute_result",
          "data": {
            "text/plain": [
              "'Dora Explora'"
            ],
            "application/vnd.google.colaboratory.intrinsic+json": {
              "type": "string"
            }
          },
          "metadata": {},
          "execution_count": 39
        }
      ]
    }
  ]
}