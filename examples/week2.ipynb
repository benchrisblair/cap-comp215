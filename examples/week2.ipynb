{
  "nbformat": 4,
  "nbformat_minor": 0,
  "metadata": {
    "colab": {
      "name": "week2.ipynb",
      "provenance": [],
      "include_colab_link": true
    },
    "kernelspec": {
      "name": "python3",
      "display_name": "Python 3"
    },
    "language_info": {
      "name": "python"
    }
  },
  "cells": [
    {
      "cell_type": "markdown",
      "metadata": {
        "id": "view-in-github",
        "colab_type": "text"
      },
      "source": [
        "<a href=\"https://colab.research.google.com/github/benchrisblair/cap-comp215/blob/main/examples/week2.ipynb\" target=\"_parent\"><img src=\"https://colab.research.google.com/assets/colab-badge.svg\" alt=\"Open In Colab\"/></a>"
      ]
    },
    {
      "cell_type": "markdown",
      "source": [
        "# Sequence and Map Data Structures - Strings, Tuples, Lists, Dictionaries\n",
        "This is our week 2 examples notebook and will be available on Github from the powderflask/cap-comp215 repository.\n",
        "\n",
        "As usual, the first code block just imports the modules we will use."
      ],
      "metadata": {
        "id": "WBMC0GrjNRTM"
      }
    },
    {
      "cell_type": "code",
      "execution_count": 1,
      "metadata": {
        "id": "C1a6aDXAM0WM"
      },
      "outputs": [],
      "source": [
        "import datetime\n",
        "import matplotlib.pyplot as plt\n",
        "import  matplotlib.dates as mdates\n",
        "from pprint import pprint"
      ]
    },
    {
      "cell_type": "markdown",
      "source": [
        "## f-strings\n",
        "A `string` is a sequence of characters / symbols.\n",
        "This familiar data structure is quite powerful, and format-strings (f-strings) take it to the next level..."
      ],
      "metadata": {
        "collapsed": false,
        "pycharm": {
          "name": "#%% md\n"
        },
        "id": "QX1sApd_HWC5"
      }
    },
    {
      "cell_type": "code",
      "execution_count": 2,
      "outputs": [
        {
          "output_type": "execute_result",
          "data": {
            "text/plain": [
              "'22/01/2023 is not special, but 42 and 3.14 are!'"
            ],
            "application/vnd.google.colaboratory.intrinsic+json": {
              "type": "string"
            }
          },
          "metadata": {},
          "execution_count": 2
        }
      ],
      "source": [
        "today = datetime.date.today()\n",
        "the_answer = 42\n",
        "PI = 3.1415926535\n",
        "\n",
        "f'{today:%d/%m/%Y} is not special, but {the_answer} and {PI:0.2f} are!'"
      ],
      "metadata": {
        "pycharm": {
          "name": "#%%\n"
        },
        "colab": {
          "base_uri": "https://localhost:8080/",
          "height": 35
        },
        "id": "jIH0F02mHWC7",
        "outputId": "130c8b45-671c-4221-a27e-97fffe8ff6db"
      }
    },
    {
      "cell_type": "markdown",
      "source": [
        "## List Comprehension\n",
        "Provides a compact syntax for two very common sequence-processing algorithms:  Map  and Filter\n",
        "\n",
        "Basic syntax:"
      ],
      "metadata": {
        "id": "k70NJ-JTNwYN"
      }
    },
    {
      "cell_type": "code",
      "source": [
        "# [i for i in range(10)]\n",
        "\n",
        "# Generate a list of values based on a set of rules\n",
        "list_1 = [2*i if i%2==0 else 3*i if i%3==0 else i*4 for i in range(0,100)]\n",
        "print(list_1)\n",
        "\n",
        "# The list comprehension can be made clearer by first defining a function...\n",
        "def calculate_it(val):\n",
        "    return 2*val if val%2==0 else 3*val if val%3==0 else val*4\n",
        "\n",
        "# ...then using that function to manipulate i in the list comprehension\n",
        "list_2 = [calculate_it(i) for i in range(0, 100)]\n",
        "print(list_2)\n",
        "\n",
        "from collections import defaultdict\n",
        "\n",
        "def counter_factory(): # This factory function can be replaced with 'lambda : 0' in defaultdict\n",
        "    return 0\n",
        "\n",
        "counts_1 = defaultdict(counter_factory)  # We're not calling the counter_factory function so we don't need to include the parentheses\n",
        "for i in range(0, 100):\n",
        "    counts_1[calculate_it(i)] += 1\n",
        "print(counts_1)\n",
        "\n",
        "# Instead of defining the counter_factory function, we can use a lambda function\n",
        "counts_2 = defaultdict(lambda:0)\n",
        "for i in range(0, 100):\n",
        "    counts_2[calculate_it(i)] += 1\n",
        "print(counts_2)\n",
        "\n",
        "# We can also do dictionary comprehensions which show mapping more explicitly\n",
        "dict_comp = {i:calculate_it(i) for i in range(0, 100)}\n",
        "print(dict_comp)\n",
        "\n",
        "# We can also remove the duplicates using a set comprehension\n",
        "set_comp = {calculate_it(i) for i in range(0, 100)}\n",
        "print(set_comp)\n",
        "\n",
        "# Questions:\n",
        "# 1. Does the set comprehension automatically remove the duplicates? Is that a characteristic of a set in Python?"
      ],
      "metadata": {
        "id": "HZSz8IftqJ72",
        "colab": {
          "base_uri": "https://localhost:8080/"
        },
        "outputId": "84dba6ec-e085-4d04-cddb-d9ce523f157a"
      },
      "execution_count": 21,
      "outputs": [
        {
          "output_type": "stream",
          "name": "stdout",
          "text": [
            "[0, 4, 4, 9, 8, 20, 12, 28, 16, 27, 20, 44, 24, 52, 28, 45, 32, 68, 36, 76, 40, 63, 44, 92, 48, 100, 52, 81, 56, 116, 60, 124, 64, 99, 68, 140, 72, 148, 76, 117, 80, 164, 84, 172, 88, 135, 92, 188, 96, 196, 100, 153, 104, 212, 108, 220, 112, 171, 116, 236, 120, 244, 124, 189, 128, 260, 132, 268, 136, 207, 140, 284, 144, 292, 148, 225, 152, 308, 156, 316, 160, 243, 164, 332, 168, 340, 172, 261, 176, 356, 180, 364, 184, 279, 188, 380, 192, 388, 196, 297]\n",
            "[0, 4, 4, 9, 8, 20, 12, 28, 16, 27, 20, 44, 24, 52, 28, 45, 32, 68, 36, 76, 40, 63, 44, 92, 48, 100, 52, 81, 56, 116, 60, 124, 64, 99, 68, 140, 72, 148, 76, 117, 80, 164, 84, 172, 88, 135, 92, 188, 96, 196, 100, 153, 104, 212, 108, 220, 112, 171, 116, 236, 120, 244, 124, 189, 128, 260, 132, 268, 136, 207, 140, 284, 144, 292, 148, 225, 152, 308, 156, 316, 160, 243, 164, 332, 168, 340, 172, 261, 176, 356, 180, 364, 184, 279, 188, 380, 192, 388, 196, 297]\n",
            "defaultdict(<function counter_factory at 0x7f507f5d2e50>, {0: 1, 4: 2, 9: 1, 8: 1, 20: 2, 12: 1, 28: 2, 16: 1, 27: 1, 44: 2, 24: 1, 52: 2, 45: 1, 32: 1, 68: 2, 36: 1, 76: 2, 40: 1, 63: 1, 92: 2, 48: 1, 100: 2, 81: 1, 56: 1, 116: 2, 60: 1, 124: 2, 64: 1, 99: 1, 140: 2, 72: 1, 148: 2, 117: 1, 80: 1, 164: 2, 84: 1, 172: 2, 88: 1, 135: 1, 188: 2, 96: 1, 196: 2, 153: 1, 104: 1, 212: 1, 108: 1, 220: 1, 112: 1, 171: 1, 236: 1, 120: 1, 244: 1, 189: 1, 128: 1, 260: 1, 132: 1, 268: 1, 136: 1, 207: 1, 284: 1, 144: 1, 292: 1, 225: 1, 152: 1, 308: 1, 156: 1, 316: 1, 160: 1, 243: 1, 332: 1, 168: 1, 340: 1, 261: 1, 176: 1, 356: 1, 180: 1, 364: 1, 184: 1, 279: 1, 380: 1, 192: 1, 388: 1, 297: 1})\n",
            "defaultdict(<function <lambda> at 0x7f507f686040>, {0: 1, 4: 2, 9: 1, 8: 1, 20: 2, 12: 1, 28: 2, 16: 1, 27: 1, 44: 2, 24: 1, 52: 2, 45: 1, 32: 1, 68: 2, 36: 1, 76: 2, 40: 1, 63: 1, 92: 2, 48: 1, 100: 2, 81: 1, 56: 1, 116: 2, 60: 1, 124: 2, 64: 1, 99: 1, 140: 2, 72: 1, 148: 2, 117: 1, 80: 1, 164: 2, 84: 1, 172: 2, 88: 1, 135: 1, 188: 2, 96: 1, 196: 2, 153: 1, 104: 1, 212: 1, 108: 1, 220: 1, 112: 1, 171: 1, 236: 1, 120: 1, 244: 1, 189: 1, 128: 1, 260: 1, 132: 1, 268: 1, 136: 1, 207: 1, 284: 1, 144: 1, 292: 1, 225: 1, 152: 1, 308: 1, 156: 1, 316: 1, 160: 1, 243: 1, 332: 1, 168: 1, 340: 1, 261: 1, 176: 1, 356: 1, 180: 1, 364: 1, 184: 1, 279: 1, 380: 1, 192: 1, 388: 1, 297: 1})\n",
            "{0: 0, 1: 4, 2: 4, 3: 9, 4: 8, 5: 20, 6: 12, 7: 28, 8: 16, 9: 27, 10: 20, 11: 44, 12: 24, 13: 52, 14: 28, 15: 45, 16: 32, 17: 68, 18: 36, 19: 76, 20: 40, 21: 63, 22: 44, 23: 92, 24: 48, 25: 100, 26: 52, 27: 81, 28: 56, 29: 116, 30: 60, 31: 124, 32: 64, 33: 99, 34: 68, 35: 140, 36: 72, 37: 148, 38: 76, 39: 117, 40: 80, 41: 164, 42: 84, 43: 172, 44: 88, 45: 135, 46: 92, 47: 188, 48: 96, 49: 196, 50: 100, 51: 153, 52: 104, 53: 212, 54: 108, 55: 220, 56: 112, 57: 171, 58: 116, 59: 236, 60: 120, 61: 244, 62: 124, 63: 189, 64: 128, 65: 260, 66: 132, 67: 268, 68: 136, 69: 207, 70: 140, 71: 284, 72: 144, 73: 292, 74: 148, 75: 225, 76: 152, 77: 308, 78: 156, 79: 316, 80: 160, 81: 243, 82: 164, 83: 332, 84: 168, 85: 340, 86: 172, 87: 261, 88: 176, 89: 356, 90: 180, 91: 364, 92: 184, 93: 279, 94: 188, 95: 380, 96: 192, 97: 388, 98: 196, 99: 297}\n",
            "{0, 4, 8, 9, 12, 16, 20, 24, 27, 28, 32, 36, 40, 44, 45, 48, 52, 56, 60, 63, 64, 68, 72, 76, 80, 81, 84, 88, 92, 96, 99, 100, 104, 108, 112, 116, 117, 120, 124, 128, 132, 135, 136, 140, 144, 148, 152, 153, 156, 160, 164, 168, 171, 172, 176, 180, 184, 188, 189, 192, 196, 207, 212, 220, 225, 236, 243, 244, 260, 261, 268, 279, 284, 292, 297, 308, 316, 332, 340, 356, 364, 380, 388}\n"
          ]
        }
      ]
    },
    {
      "cell_type": "markdown",
      "source": [
        "### Map Algorithm\n",
        "Apply the same function to every item in another sequence (i.e., provide a \"mapping\" from the source sequence to the target)"
      ],
      "metadata": {
        "collapsed": false,
        "pycharm": {
          "name": "#%% md\n"
        },
        "id": "85ix7Jq2HWC_"
      }
    },
    {
      "cell_type": "code",
      "execution_count": 19,
      "outputs": [
        {
          "output_type": "stream",
          "name": "stdout",
          "text": [
            "[1, 4, 9, 16, 25, 36, 49, 64, 81, 100]\n"
          ]
        }
      ],
      "source": [
        "# Example: Compute the first 10 natural squares\n",
        "squares = [x**2 for x in range(1,11)]\n",
        "print(squares)"
      ],
      "metadata": {
        "pycharm": {
          "name": "#%%\n"
        },
        "colab": {
          "base_uri": "https://localhost:8080/"
        },
        "id": "elBgseh_HWC_",
        "outputId": "70154a1e-a55d-4990-f7ed-d2af2bbbde6f"
      }
    },
    {
      "cell_type": "markdown",
      "source": [
        "### Filter\n",
        "Select a sub-set of the elements from another sequence based on some criteria."
      ],
      "metadata": {
        "collapsed": false,
        "pycharm": {
          "name": "#%% md\n"
        },
        "id": "QhZ2fWNRHWDA"
      }
    },
    {
      "cell_type": "code",
      "execution_count": 20,
      "outputs": [
        {
          "output_type": "stream",
          "name": "stdout",
          "text": [
            "o, e, i, u, o, o, i, a, e, o, e, e, u, a, i, i, i, e, i, e, o, e, i, u, o, e, o, i, i, i, u, u, a, o, e, e, o, o, e, a, a, a, i, u, a, U, e, i, a, i, i, e, i, a, u, i, o, u, e, e, i, a, i, o, u, a, o, a, o, i, i, i, u, a, i, u, i, e, e, a, o, o, o, o, e, u, a\n",
            "{'u', 'e', 'o', 'i', 'U', 'a'}\n",
            "['o', 'e', 'i', 'u', 'a', 'U']\n"
          ]
        }
      ],
      "source": [
        "VOWELS = 'aeiouAEIOU'\n",
        "text = '''\n",
        "Lorem ipsum dolor sit amet, consectetur adipiscing elit, sed do eiusmod tempor incididunt ut labore et dolore magna aliqua. Ut enim ad minim veniam, quis nostrud exercitation ullamco laboris nisi ut aliquip ex ea commodo consequat.\n",
        "'''\n",
        "# Problem: create a string with just the vowels from the text, in order.\n",
        "list_of_vowels = [char for char in text if char in VOWELS]\n",
        "\n",
        "delimiter = ', '\n",
        "str_of_vowels = delimiter.join(list_of_vowels)\n",
        "print(str_of_vowels)\n",
        "\n",
        "vowels_seen = set()\n",
        "def is_seen(char):\n",
        "  if char in vowels_seen:\n",
        "    return True\n",
        "  else:\n",
        "    vowels_seen.add(char)\n",
        "    return False\n",
        "\n",
        "# [vowel for vowel in list_of_vowels if not is_seen(vowel)] --> replace list comprehensions with side effects using loops (as seen below)\n",
        "\n",
        "unique_vowels = []\n",
        "# for vowel in list_of_vowels:\n",
        "#   if not is_seen(vowel):\n",
        "#     unique_vowels.append(vowel)\n",
        "for vowel in list_of_vowels:\n",
        "  if vowel in VOWELS and vowel not in vowels_seen:\n",
        "    vowels_seen.add(vowel)\n",
        "    unique_vowels.append(vowel)\n",
        "\n",
        "print(vowels_seen)\n",
        "print(unique_vowels)\n",
        "\n",
        "# Questions:\n",
        "# 1. Why do we need vowels_seen and unique_vowels? Both seem to contain the same information."
      ],
      "metadata": {
        "pycharm": {
          "name": "#%%\n"
        },
        "colab": {
          "base_uri": "https://localhost:8080/"
        },
        "id": "HL-_nmSSHWDA",
        "outputId": "8f849bb7-96e8-4912-a224-f87a277e51bc"
      }
    },
    {
      "cell_type": "markdown",
      "source": [
        "## Data Wrangling with List Comprehension\n",
        "E-learn's Live Quiz module tracks quiz scores for each student, but does not store them in the gradebook, and instead reports them in the most useless way.\n",
        "\n",
        "Let's do some \"data wrangling\" to make sense out of this mess!\n",
        "\n",
        "### The Problem: Unstructured Data!\n",
        "Notice it is just a single large string! The real data set has 36 students, and I need to do this every week!"
      ],
      "metadata": {
        "collapsed": false,
        "pycharm": {
          "name": "#%% md\n"
        },
        "id": "dSh-h1K1HWDA"
      }
    },
    {
      "cell_type": "code",
      "execution_count": 23,
      "outputs": [],
      "source": [
        "quiz_scores = \"\"\"\n",
        "  1.                 Ali Oop scored  7/ 8 = 87%\n",
        "\n",
        "\n",
        "  2.          Alison Ralison scored  8/ 8 = 100%\n",
        "\n",
        "\n",
        "  3.         Ambily Piturbed scored  8/ 8 = 100%\n",
        "\n",
        "\n",
        "  4.  Arshan Risnot Farquared scored  5/ 8 = 62%\n",
        "\n",
        "\n",
        "  5.       Ayushma Jugernaugh scored  5/ 8 = 62%\n",
        "\n",
        "\n",
        "  6.       Brayden Labaguette scored  7/ 8 = 87%\n",
        "\"\"\""
      ],
      "metadata": {
        "pycharm": {
          "name": "#%%\n"
        },
        "id": "e7Dj-sAKHWDB"
      }
    },
    {
      "cell_type": "markdown",
      "source": [
        "### Goal\n",
        "Turn this into structured data: a list of 2-tuples, each student's full name and their integer score."
      ],
      "metadata": {
        "collapsed": false,
        "pycharm": {
          "name": "#%% md\n"
        },
        "id": "WnHTfUbDHWDB"
      }
    },
    {
      "cell_type": "code",
      "execution_count": 28,
      "outputs": [
        {
          "output_type": "stream",
          "name": "stdout",
          "text": [
            "[['Ali', 'Oop', 'scored', '7/'],\n",
            " ['Alison', 'Ralison', 'scored', '8/'],\n",
            " ['Ambily', 'Piturbed', 'scored', '8/'],\n",
            " ['Arshan', 'Risnot', 'Farquared', 'scored', '5/'],\n",
            " ['Ayushma', 'Jugernaugh', 'scored', '5/'],\n",
            " ['Brayden', 'Labaguette', 'scored', '7/']]\n",
            "[('Ali Oop', 7),\n",
            " ('Alison Ralison', 8),\n",
            " ('Ambily Piturbed', 8),\n",
            " ('Arshan Risnot Farquared', 5),\n",
            " ('Ayushma Jugernaugh', 5),\n",
            " ('Brayden Labaguette', 7)]\n"
          ]
        }
      ],
      "source": [
        "# Start by eliminating the blank lines between each entry, removing unnecessary text from both ends of the string, and splitting string into elements\n",
        "lines = [line.split()[1:-3] for line in quiz_scores.split('\\n') if line]\n",
        "pprint(lines)\n",
        "\n",
        "# Clean up each entry by combining the first, middle, and last names, and eliminating the remaining unnecessary text \n",
        "scores = [(' '.join(line[:-2]), int(line[-1][:-1])) for line in lines]\n",
        "pprint(scores)"
      ],
      "metadata": {
        "pycharm": {
          "name": "#%%\n"
        },
        "colab": {
          "base_uri": "https://localhost:8080/"
        },
        "id": "UrggoUdoHWDC",
        "outputId": "ef78701c-0f10-4b92-b79d-7a2498338080"
      }
    },
    {
      "cell_type": "markdown",
      "source": [
        "## Records\n",
        "A *record* is a compound data value - a collection of simpler data values (fields) that all describe a single entity.\n",
        "\n",
        " * tuple\n",
        " * dictionary\n",
        " * object\n",
        "\n",
        "Problem: develop the data representation for a `student` in a student record system,\n",
        "where a `student` has a first and last name, student id, and date of birth"
      ],
      "metadata": {
        "collapsed": false,
        "id": "vXuRA1mDHWDC"
      }
    },
    {
      "cell_type": "code",
      "source": [
        "# Tuple\n",
        "tuple_students = [\n",
        "    ('Bob', '', 'Squarepants', 123456789, datetime.date(year=1994, month=2, day=25)),\n",
        "    ('Dora', 'The', 'Explora', 192837465, datetime.date(year=2000, month=8, day=14))\n",
        "]\n",
        "\n",
        "s = tuple_students[-1]\n",
        "s[4]  # must know that the DOB is at index 4 to access the correct data\n",
        "age = datetime.date.today() - s[4]  # calculate age in days\n",
        "age.days // 365  # calculate age in years\n",
        "\n",
        "# Dictionary\n",
        "dict_students = [\n",
        "    {\n",
        "        'first': 'Bob',\n",
        "        'middle': '',\n",
        "        'last': 'Squarepants',\n",
        "        'sn': 123456789,\n",
        "        'dob': datetime.date(year=1994, month=2, day=25)\n",
        "    },\n",
        "    {\n",
        "        'first': 'Dora',\n",
        "        'middle': 'The',\n",
        "        'last': 'Explora',\n",
        "        'sn': 192837465,\n",
        "        'dob': datetime.date(year=2000, month=8, day=14)\n",
        "    }\n",
        "]\n",
        "\n",
        "s = dict_students[-1]\n",
        "s['dob']\n",
        "\n",
        "# We can use a list comprehension to generate a record of all students\n",
        "students = [{'first':s[0], 'middle':s[1], 'last':s[2], 'sn':s[3], 'dob':s[4]} for s in tuple_students]\n",
        "students"
      ],
      "metadata": {
        "id": "Ai9qb3Bolw4h",
        "outputId": "3533c658-4b84-4b0b-93cd-ae08fa589a9e",
        "colab": {
          "base_uri": "https://localhost:8080/"
        }
      },
      "execution_count": 30,
      "outputs": [
        {
          "output_type": "execute_result",
          "data": {
            "text/plain": [
              "[{'first': 'Bob',\n",
              "  'middle': '',\n",
              "  'last': 'Squarepants',\n",
              "  'sn': 123456789,\n",
              "  'dob': datetime.date(1994, 2, 25)},\n",
              " {'first': 'Dora',\n",
              "  'middle': 'The',\n",
              "  'last': 'Explora',\n",
              "  'sn': 192837465,\n",
              "  'dob': datetime.date(2000, 8, 14)}]"
            ]
          },
          "metadata": {},
          "execution_count": 30
        }
      ]
    },
    {
      "cell_type": "code",
      "source": [
        "# Objects\n",
        "from dataclasses import dataclass\n",
        "\n",
        "@dataclass\n",
        "class Student:\n",
        "    first: str\n",
        "    middle: str\n",
        "    last: str\n",
        "    sn: int\n",
        "    dob: datetime.date\n",
        "\n",
        "    def full_name(self):\n",
        "        return f'{self.first} {self.last}'\n",
        "\n",
        "@dataclass\n",
        "class SkilledStudent(Student):  # Example of inheritance --> next week\n",
        "    skill: str\n",
        "\n",
        "students = [\n",
        "    Student('Bob', '', 'Squarepants', 123456789, datetime.date(year=1994, month=2, day=25)),\n",
        "    SkilledStudent('Dora', 'The', 'Explora', 192837465, datetime.date(year=2000, month=8, day=14), skill=\"Exploring\")\n",
        "]\n",
        "\n",
        "dora = [s for s in students if s.first=='Dora'][0]\n",
        "dora.full_name()\n",
        "\n",
        "dora.first = 'Fred'  # Change Dora's first name to Fred\n",
        "dora\n",
        "\n",
        "# dora.skill = 'Exploring'  # Adding a skill attribute does not affect the Student class, NEVER do this\n",
        "# dora.skill\n",
        "\n",
        "# bob = students[0]\n",
        "# bob.skill  # Returns an error b/c Bob does not have the skill attribute"
      ],
      "metadata": {
        "id": "xwkqbeBJ-Vco",
        "outputId": "7fbb4e8c-90d1-47cf-c1f5-c4fb4abf2fbb",
        "colab": {
          "base_uri": "https://localhost:8080/"
        }
      },
      "execution_count": 31,
      "outputs": [
        {
          "output_type": "execute_result",
          "data": {
            "text/plain": [
              "SkilledStudent(first='Fred', middle='The', last='Explora', sn=192837465, dob=datetime.date(2000, 8, 14), skill='Exploring')"
            ]
          },
          "metadata": {},
          "execution_count": 31
        }
      ]
    },
    {
      "cell_type": "markdown",
      "source": [
        "**Data types** (such as `int`, `float`, and `bool`) are indivisible --> known as *atomic*\n",
        "\n",
        "Note, in Python multi-character strings are not indivisible because they can be divided into individual characters. A `str` containing a single character is *atomic*.\n",
        "\n",
        "Returning to our `Student` class from above, we can see that the `Student` object can be divided into smaller parts. This is known as a *compound* data type. **Classes** allow us to define our own data types."
      ],
      "metadata": {
        "id": "qKVSPGpvHomo"
      }
    },
    {
      "cell_type": "code",
      "source": [
        "type('hello')  # Returns str --> NOT atomic\n",
        "type('a')  # Returns str --> atomic\n",
        "type(42)  # Returns int --> atomic\n",
        "type(True)  # Returns bool --> atomic\n",
        "\n",
        "type(dora)  # Returns Student --> NOT atomic\n",
        "type(Student)  # Returns type\n",
        "type(type)  # Returns type..."
      ],
      "metadata": {
        "id": "FrW8NXDwHcb_",
        "outputId": "949e6c19-3738-4a7e-b0ba-4c5cf0867bf6",
        "colab": {
          "base_uri": "https://localhost:8080/"
        }
      },
      "execution_count": 32,
      "outputs": [
        {
          "output_type": "execute_result",
          "data": {
            "text/plain": [
              "type"
            ]
          },
          "metadata": {},
          "execution_count": 32
        }
      ]
    }
  ]
}