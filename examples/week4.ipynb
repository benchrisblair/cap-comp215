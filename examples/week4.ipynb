{
  "nbformat": 4,
  "nbformat_minor": 0,
  "metadata": {
    "colab": {
      "name": "week4.ipynb",
      "provenance": [],
      "include_colab_link": true
    },
    "kernelspec": {
      "name": "python3",
      "display_name": "Python 3"
    },
    "language_info": {
      "name": "python"
    }
  },
  "cells": [
    {
      "cell_type": "markdown",
      "metadata": {
        "id": "view-in-github",
        "colab_type": "text"
      },
      "source": [
        "<a href=\"https://colab.research.google.com/github/benchrisblair/cap-comp215/blob/main/examples/week4.ipynb\" target=\"_parent\"><img src=\"https://colab.research.google.com/assets/colab-badge.svg\" alt=\"Open In Colab\"/></a>"
      ]
    },
    {
      "cell_type": "markdown",
      "source": [
        "# Generators and Random Numbers\n",
        "This is our week 4 examples notebook and will be available on Github from the powderflask/cap-comp215 repository.\n",
        "\n",
        "As usual, the first code block just imports the modules we will use."
      ],
      "metadata": {
        "id": "WBMC0GrjNRTM"
      }
    },
    {
      "cell_type": "code",
      "execution_count": 9,
      "outputs": [],
      "source": [
        "import random\n",
        "import matplotlib.pyplot as plt\n",
        "from pprint import pprint"
      ],
      "metadata": {
        "pycharm": {
          "name": "#%%\n"
        },
        "id": "nKfAU8sPAx2_"
      }
    },
    {
      "cell_type": "markdown",
      "source": [
        "## Examples: generator expressions"
      ],
      "metadata": {
        "collapsed": false,
        "id": "BYi7OiHLAx3B"
      }
    },
    {
      "cell_type": "code",
      "execution_count": 10,
      "outputs": [
        {
          "output_type": "stream",
          "name": "stdout",
          "text": [
            "<generator object <genexpr> at 0x7ff23006e820>\n",
            "[(0, 1, 2), (1, 2, 3), (2, 3, 4), (3, 4, 5), (4, 5, 6), (5, 6, 7), (6, 7, 8), (7, 8, 9), (8, 9, 10)]\n",
            "[]\n"
          ]
        }
      ],
      "source": [
        "neighbours = ((i-1, i, i+1) for i in range(1, 10))\n",
        "print(neighbours)\n",
        "# We can turn a generator into a list to look at all its elements (though this somewhat defeats the purpose!)\n",
        "print(list(neighbours))\n",
        "# Once the \"stream\" has flowed past, it is empty - there is no way to \"replenish\" it.\n",
        "print(list(neighbours))"
      ],
      "metadata": {
        "pycharm": {
          "name": "#%%\n"
        },
        "id": "1b-da8VBAx3B",
        "outputId": "b219fe34-b52d-43e3-9cb6-e622e1991a81",
        "colab": {
          "base_uri": "https://localhost:8080/"
        }
      }
    },
    {
      "cell_type": "code",
      "source": [
        "def generate_neighbours(upper_bound):\n",
        "    for i in range(1, upper_bound):\n",
        "        yield (i-1, i, i+1)\n",
        "\n",
        "neighbours2 = generate_neighbours(10)\n",
        "print(neighbours2)\n",
        "print(next(neighbours2))\n",
        "print(next(neighbours2))\n",
        "print(next(neighbours2))\n",
        "print(list(neighbours2))\n",
        "print(list(neighbours2))"
      ],
      "metadata": {
        "id": "4tBqeDPXCz1d",
        "outputId": "5f4328e2-6e71-468b-d9f3-7c3187f3b797",
        "colab": {
          "base_uri": "https://localhost:8080/"
        }
      },
      "execution_count": 11,
      "outputs": [
        {
          "output_type": "stream",
          "name": "stdout",
          "text": [
            "<generator object generate_neighbours at 0x7ff23006e270>\n",
            "(0, 1, 2)\n",
            "(1, 2, 3)\n",
            "(2, 3, 4)\n",
            "[(3, 4, 5), (4, 5, 6), (5, 6, 7), (6, 7, 8), (7, 8, 9), (8, 9, 10)]\n",
            "[]\n"
          ]
        }
      ]
    },
    {
      "cell_type": "code",
      "source": [
        "def generate_infinite_neighbours():\n",
        "    i = 1\n",
        "    while True:\n",
        "        yield (i-1, i, i+1)\n",
        "        i = i+1\n",
        "\n",
        "neighbours3 = generate_infinite_neighbours()\n",
        "print(next(neighbours3))\n",
        "print(next(neighbours3))\n",
        "print(next(neighbours3))\n",
        "for j in range(100):\n",
        "    print(next(neighbours3))"
      ],
      "metadata": {
        "id": "G9c42D2hFEGd"
      },
      "execution_count": null,
      "outputs": []
    },
    {
      "cell_type": "code",
      "source": [
        "# A simple pseudo-random number generator\n",
        "# x = x // 10 + 7 * (x % 10)\n",
        "# This is a chaotic function.\n",
        "# It is different from other functions in that it feeds the result back into the function.\n",
        "# It has some attributes of a deterministic function and some of a random system.\n",
        "\n",
        "def rand2(seed=12):\n",
        "    while True:\n",
        "        seed = seed // 10 + 7 * (seed % 10)\n",
        "        yield seed\n",
        "\n",
        "rand2 = rand2(seed=49)\n",
        "x_values = [next(rand2) for i in range(100)]\n",
        "y_values = [next(rand2) for i in range(100)]\n",
        "\n",
        "plt.scatter(x_values, y_values)"
      ],
      "metadata": {
        "id": "s8ra9LHVMih3",
        "outputId": "987ed9b9-9b9b-45c6-f403-6816ba14c67f",
        "colab": {
          "base_uri": "https://localhost:8080/",
          "height": 285
        }
      },
      "execution_count": 20,
      "outputs": [
        {
          "output_type": "execute_result",
          "data": {
            "text/plain": [
              "<matplotlib.collections.PathCollection at 0x7ff22f54c7f0>"
            ]
          },
          "metadata": {},
          "execution_count": 20
        },
        {
          "output_type": "display_data",
          "data": {
            "text/plain": [
              "<Figure size 432x288 with 1 Axes>"
            ],
            "image/png": "[encoded data removed]"
          },
          "metadata": {
            "needs_background": "light"
          }
        }
      ]
    },
    {
      "cell_type": "markdown",
      "source": [
        "## Pseudo-Random Numbers"
      ],
      "metadata": {
        "collapsed": false,
        "id": "9tISEzkCAx3D"
      }
    },
    {
      "cell_type": "code",
      "execution_count": 21,
      "outputs": [
        {
          "output_type": "execute_result",
          "data": {
            "text/plain": [
              "[0.8226924128524412,\n",
              " 0.07459489106842454,\n",
              " 0.539981536699935,\n",
              " 0.42635012286713714,\n",
              " 0.8225252585152211,\n",
              " 0.06843060944899249,\n",
              " 0.7659060980857473,\n",
              " 0.8356786098701868,\n",
              " 0.90013542915959,\n",
              " 0.8920911124396236]"
            ]
          },
          "metadata": {},
          "execution_count": 21
        }
      ],
      "source": [
        "# A list of n random numbers - again we are turning a \"generator\" into a list\n",
        "n = 10\n",
        "[random.random() for i in range(n)]"
      ],
      "metadata": {
        "pycharm": {
          "name": "#%%\n"
        },
        "id": "oZ26B6XSAx3D",
        "outputId": "ab3b69b4-b24d-4bcf-9706-b83cef0ea62d",
        "colab": {
          "base_uri": "https://localhost:8080/"
        }
      }
    },
    {
      "cell_type": "code",
      "execution_count": 25,
      "outputs": [
        {
          "output_type": "execute_result",
          "data": {
            "text/plain": [
              "<matplotlib.axes._subplots.AxesSubplot at 0x7ff22f37d3a0>"
            ]
          },
          "metadata": {},
          "execution_count": 25
        },
        {
          "output_type": "display_data",
          "data": {
            "text/plain": [
              "<Figure size 432x288 with 1 Axes>"
            ],
            "image/png": "[encoded data removed]"
          },
          "metadata": {
            "needs_background": "light"
          }
        }
      ],
      "source": [
        "# Scatter plot of random (x,y) coordinates\n",
        "n = 1000\n",
        "fig, ax = plt.subplots()\n",
        "ax.scatter([random.random() for i in range(n)], [random.random() for i in range(n)])\n",
        "ax"
      ],
      "metadata": {
        "pycharm": {
          "name": "#%%\n"
        },
        "id": "9orzUXsYAx3E",
        "outputId": "16af4a2c-9313-4159-f356-04cc5d7dab16",
        "colab": {
          "base_uri": "https://localhost:8080/",
          "height": 282
        }
      }
    },
    {
      "cell_type": "markdown",
      "source": [
        "## Chaotic Feedback\n",
        "\n",
        " * some mathematical functions produce chaotic patterns when you feed their output back in as the next input."
      ],
      "metadata": {
        "collapsed": false,
        "id": "FE_zRuRHAx3E"
      }
    },
    {
      "cell_type": "code",
      "execution_count": 28,
      "outputs": [
        {
          "output_type": "execute_result",
          "data": {
            "text/plain": [
              "[25, 37, 52, 19, 64, 34, 31, 10, 1, 7, 49, 67, 55, 40, 4, 28, 58, 61, 13, 22]"
            ]
          },
          "metadata": {},
          "execution_count": 28
        }
      ],
      "source": [
        "# Returning to our simple pseudo-random number generator from above\n",
        "\n",
        "import time\n",
        "\n",
        "class TwoDigitRand:\n",
        "    \"\"\" Demonstrates 'chaotic feedback' algorithm - not crypographic quality randomness!! \"\"\"\n",
        "    def __init__(self, seed=None):\n",
        "        seed = seed or int(time.time()*10**3)  # clock time in milliseconds\n",
        "        self.seed = seed % 100  # 2-digit only!\n",
        "\n",
        "    def rand(self):\n",
        "        \"\"\" Chaotic feedback algorithm - the last output is used as input to compute the next one \"\"\"\n",
        "        self.seed = self.seed//10 + 7*(self.seed%10)\n",
        "        return self.seed\n",
        "\n",
        "\n",
        "r = TwoDigitRand()\n",
        "[r.rand() for i in range(20)]"
      ],
      "metadata": {
        "pycharm": {
          "name": "#%%\n"
        },
        "id": "SQW7fPIiAx3F",
        "outputId": "feed21b0-9c04-4004-aefe-0be0ec4f2e7a",
        "colab": {
          "base_uri": "https://localhost:8080/"
        }
      }
    },
    {
      "cell_type": "code",
      "execution_count": 27,
      "outputs": [
        {
          "output_type": "stream",
          "name": "stdout",
          "text": [
            "Sequence seed: 62\n"
          ]
        },
        {
          "output_type": "execute_result",
          "data": {
            "text/plain": [
              "<matplotlib.axes._subplots.AxesSubplot at 0x7ff22f410970>"
            ]
          },
          "metadata": {},
          "execution_count": 27
        },
        {
          "output_type": "display_data",
          "data": {
            "text/plain": [
              "<Figure size 432x288 with 1 Axes>"
            ],
            "image/png": "[encoded data removed]"
          },
          "metadata": {
            "needs_background": "light"
          }
        }
      ],
      "source": [
        "# Scatter plot of (seed, rand(seed))\n",
        "fig, ax = plt.subplots()\n",
        "print(\"Sequence seed:\", r.seed)\n",
        "pairs = [(r.seed, r.rand()) for i in range(n)]\n",
        "ax.plot([x for x,y in pairs], [y for x,y in pairs])\n",
        "ax"
      ],
      "metadata": {
        "pycharm": {
          "name": "#%%\n"
        },
        "id": "Qhz9BKeOAx3F",
        "outputId": "5a26d8f8-4fb6-4db2-f1db-e5020f9f5de7",
        "colab": {
          "base_uri": "https://localhost:8080/",
          "height": 300
        }
      }
    },
    {
      "cell_type": "markdown",
      "source": [
        "## Example: computational experiment with random numbers\n",
        "\n",
        "We'll use the Histogram class developed last week to count the outcomes of the experiment"
      ],
      "metadata": {
        "collapsed": false,
        "id": "rQA7zqF_Ax3G"
      }
    },
    {
      "cell_type": "code",
      "execution_count": 29,
      "outputs": [],
      "source": [
        "class Histogram:\n",
        "    \"\"\" A simple histogram with a nice API \"\"\"\n",
        "    def __init__(self, title, xlabel=None):\n",
        "        fig, ax = plt.subplots()\n",
        "        ax.set_title(title)\n",
        "        if xlabel:\n",
        "            ax.set_xlabel(xlabel)\n",
        "        ax.set_ylabel('Count')\n",
        "        self.ax = ax\n",
        "        self.fig = fig\n",
        "        self.counts = {}\n",
        "\n",
        "    def count(self, category):\n",
        "        self.counts[category] = self.counts.get(category, 0) + 1\n",
        "\n",
        "    def plot(self):\n",
        "        self.ax.bar(self.counts.keys(), self.counts.values())\n",
        "        plt.show()"
      ],
      "metadata": {
        "pycharm": {
          "name": "#%%\n"
        },
        "id": "rvbMHHk1Ax3G"
      }
    },
    {
      "cell_type": "code",
      "execution_count": 42,
      "outputs": [
        {
          "output_type": "display_data",
          "data": {
            "text/plain": [
              "<Figure size 432x288 with 1 Axes>"
            ],
            "image/png": "[encoded data removed]"
          },
          "metadata": {
            "needs_background": "light"
          }
        }
      ],
      "source": [
        "# Experiment: Roll some dice\n",
        "def roll_dice(sides=6):\n",
        "    return (random.randint(1,sides), random.randint(1,sides))\n",
        "\n",
        "# Number rolls to use in this experiment\n",
        "n_rolls = 1000\n",
        "\n",
        "rolls = Histogram(\"Distribution of fair dice rolls\", xlabel='Sum of 2 dice')\n",
        "for i in range(n_rolls):\n",
        "    rolls.count(sum(roll_dice()))\n",
        "\n",
        "rolls.plot()"
      ],
      "metadata": {
        "pycharm": {
          "name": "#%%\n"
        },
        "id": "At0IORBZAx3G",
        "outputId": "c1d12619-b55d-47c0-9b4a-b02ae12c12fd",
        "colab": {
          "base_uri": "https://localhost:8080/",
          "height": 295
        }
      }
    }
  ]
}