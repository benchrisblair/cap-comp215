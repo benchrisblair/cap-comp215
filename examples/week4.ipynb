{
  "nbformat": 4,
  "nbformat_minor": 0,
  "metadata": {
    "colab": {
      "name": "week4.ipynb",
      "provenance": [],
      "include_colab_link": true
    },
    "kernelspec": {
      "name": "python3",
      "display_name": "Python 3"
    },
    "language_info": {
      "name": "python"
    }
  },
  "cells": [
    {
      "cell_type": "markdown",
      "metadata": {
        "id": "view-in-github",
        "colab_type": "text"
      },
      "source": [
        "<a href=\"https://colab.research.google.com/github/benchrisblair/cap-comp215/blob/main/examples/week4.ipynb\" target=\"_parent\"><img src=\"https://colab.research.google.com/assets/colab-badge.svg\" alt=\"Open In Colab\"/></a>"
      ]
    },
    {
      "cell_type": "markdown",
      "source": [
        "# Generators and Random Numbers\n",
        "This is our week 4 examples notebook and will be available on Github from the powderflask/cap-comp215 repository.\n",
        "\n",
        "As usual, the first code block just imports the modules we will use."
      ],
      "metadata": {
        "id": "WBMC0GrjNRTM"
      }
    },
    {
      "cell_type": "code",
      "execution_count": 1,
      "outputs": [],
      "source": [
        "import random\n",
        "import matplotlib.pyplot as plt\n",
        "from pprint import pprint"
      ],
      "metadata": {
        "pycharm": {
          "name": "#%%\n"
        },
        "id": "nKfAU8sPAx2_"
      }
    },
    {
      "cell_type": "markdown",
      "source": [
        "## Examples: generator expressions"
      ],
      "metadata": {
        "collapsed": false,
        "id": "BYi7OiHLAx3B"
      }
    },
    {
      "cell_type": "code",
      "execution_count": 7,
      "outputs": [
        {
          "output_type": "stream",
          "name": "stdout",
          "text": [
            "<generator object <genexpr> at 0x7f637a0bf5f0>\n",
            "[(0, 1, 2), (1, 2, 3), (2, 3, 4), (3, 4, 5), (4, 5, 6), (5, 6, 7), (6, 7, 8), (7, 8, 9), (8, 9, 10)]\n",
            "[]\n"
          ]
        }
      ],
      "source": [
        "# Generator Expression\n",
        "neighbours = ((i-1, i, i+1) for i in range(1, 10))\n",
        "print(neighbours)\n",
        "\n",
        "# We can turn a generator into a list to look at all its elements (though this somewhat defeats the purpose!)\n",
        "print(list(neighbours))\n",
        "\n",
        "# Once the \"stream\" has flowed past, it is empty - there is no way to \"replenish\" it.\n",
        "print(list(neighbours))"
      ],
      "metadata": {
        "pycharm": {
          "name": "#%%\n"
        },
        "id": "1b-da8VBAx3B",
        "outputId": "3f63c76d-03a5-4bfa-a682-dfefc81b42f9",
        "colab": {
          "base_uri": "https://localhost:8080/"
        }
      }
    },
    {
      "cell_type": "code",
      "source": [
        "# Generator Function\n",
        "def generate_neighbours(upper_bound):\n",
        "    for i in range(1, upper_bound):\n",
        "        yield (i-1, i, i+1)\n",
        "\n",
        "neighbours2 = generate_neighbours(10)  # This creates the same generator as above\n",
        "\n",
        "print(neighbours2)\n",
        "\n",
        "print(next(neighbours2))\n",
        "print(next(neighbours2))\n",
        "print(next(neighbours2))\n",
        "\n",
        "print(list(neighbours2))\n",
        "print(list(neighbours2))"
      ],
      "metadata": {
        "id": "4tBqeDPXCz1d",
        "outputId": "9e918277-c9e9-4433-e298-783f8348d135",
        "colab": {
          "base_uri": "https://localhost:8080/"
        }
      },
      "execution_count": 8,
      "outputs": [
        {
          "output_type": "stream",
          "name": "stdout",
          "text": [
            "<generator object generate_neighbours at 0x7f637a0bff90>\n",
            "(0, 1, 2)\n",
            "(1, 2, 3)\n",
            "(2, 3, 4)\n",
            "[(3, 4, 5), (4, 5, 6), (5, 6, 7), (6, 7, 8), (7, 8, 9), (8, 9, 10)]\n",
            "[]\n"
          ]
        }
      ]
    },
    {
      "cell_type": "code",
      "source": [
        "# Create an infinite generator function\n",
        "def generate_infinite_neighbours():\n",
        "    i = 1\n",
        "    while True:\n",
        "        yield (i-1, i, i+1)\n",
        "        i = i+1\n",
        "\n",
        "neighbours3 = generate_infinite_neighbours()\n",
        "\n",
        "print(next(neighbours3))\n",
        "print(next(neighbours3))\n",
        "print(next(neighbours3))\n",
        "\n",
        "for j in range(10):\n",
        "    print(next(neighbours3))\n",
        "\n",
        "# Note: Do NOT use the list() function with an infinite generator"
      ],
      "metadata": {
        "id": "G9c42D2hFEGd",
        "outputId": "a672e92f-70f4-4366-ac02-7187879022ce",
        "colab": {
          "base_uri": "https://localhost:8080/"
        }
      },
      "execution_count": 9,
      "outputs": [
        {
          "output_type": "stream",
          "name": "stdout",
          "text": [
            "(0, 1, 2)\n",
            "(1, 2, 3)\n",
            "(2, 3, 4)\n",
            "(3, 4, 5)\n",
            "(4, 5, 6)\n",
            "(5, 6, 7)\n",
            "(6, 7, 8)\n",
            "(7, 8, 9)\n",
            "(8, 9, 10)\n",
            "(9, 10, 11)\n",
            "(10, 11, 12)\n",
            "(11, 12, 13)\n",
            "(12, 13, 14)\n"
          ]
        }
      ]
    },
    {
      "cell_type": "code",
      "source": [
        "# A simple pseudo-random number generator\n",
        "# x = x // 10 + 7 * (x % 10)\n",
        "# This is a chaotic function.\n",
        "# It is different from other functions in that it feeds the result back into the function.\n",
        "# It has some attributes of a deterministic function and some of a random system.\n",
        "\n",
        "def pseudoRand(seed=12):\n",
        "    while True:\n",
        "        seed = seed // 10 + 7 * (seed % 10)\n",
        "        yield seed\n",
        "\n",
        "rand_val = pseudoRand()\n",
        "print(next(rand_val))      # Print the first value\n",
        "print(next(rand_val))      # Print the second value\n",
        "for i in range(20):        # Print the next 20 values\n",
        "    print(next(rand_val))\n",
        "\n",
        "# After 22 values, the output is repeated\n",
        "print(next(rand_val), \"--> The period restarts.\")\n",
        "print(next(rand_val))\n",
        "\n",
        "# We can also graph the output using Matplotlib\n",
        "rand_val2 = pseudoRand()\n",
        "\n",
        "x_values = [i for i in range(22)]\n",
        "y_values = [next(rand_val2) for i in range(22)]\n",
        "print(x_values)\n",
        "print(y_values)\n",
        "\n",
        "plt.scatter(x_values, y_values)  # This plot looks random\n",
        "\n",
        "x_values = [i for i in range(66)]\n",
        "y_values = [next(rand_val2) for i in range(66)]\n",
        "print(x_values)\n",
        "print(y_values)\n",
        "\n",
        "plt.plot(x_values, y_values)  # A pattern emerges when plotting more data points"
      ],
      "metadata": {
        "id": "s8ra9LHVMih3",
        "outputId": "62caf960-3ba3-4b15-9c48-bc77ed292cd1",
        "colab": {
          "base_uri": "https://localhost:8080/",
          "height": 788
        }
      },
      "execution_count": 24,
      "outputs": [
        {
          "output_type": "stream",
          "name": "stdout",
          "text": [
            "15\n",
            "36\n",
            "45\n",
            "39\n",
            "66\n",
            "48\n",
            "60\n",
            "6\n",
            "42\n",
            "18\n",
            "57\n",
            "54\n",
            "33\n",
            "24\n",
            "30\n",
            "3\n",
            "21\n",
            "9\n",
            "63\n",
            "27\n",
            "51\n",
            "12\n",
            "15 --> The period restarts.\n",
            "36\n",
            "[0, 1, 2, 3, 4, 5, 6, 7, 8, 9, 10, 11, 12, 13, 14, 15, 16, 17, 18, 19, 20, 21]\n",
            "[15, 36, 45, 39, 66, 48, 60, 6, 42, 18, 57, 54, 33, 24, 30, 3, 21, 9, 63, 27, 51, 12]\n",
            "[0, 1, 2, 3, 4, 5, 6, 7, 8, 9, 10, 11, 12, 13, 14, 15, 16, 17, 18, 19, 20, 21, 22, 23, 24, 25, 26, 27, 28, 29, 30, 31, 32, 33, 34, 35, 36, 37, 38, 39, 40, 41, 42, 43, 44, 45, 46, 47, 48, 49, 50, 51, 52, 53, 54, 55, 56, 57, 58, 59, 60, 61, 62, 63, 64, 65]\n",
            "[15, 36, 45, 39, 66, 48, 60, 6, 42, 18, 57, 54, 33, 24, 30, 3, 21, 9, 63, 27, 51, 12, 15, 36, 45, 39, 66, 48, 60, 6, 42, 18, 57, 54, 33, 24, 30, 3, 21, 9, 63, 27, 51, 12, 15, 36, 45, 39, 66, 48, 60, 6, 42, 18, 57, 54, 33, 24, 30, 3, 21, 9, 63, 27, 51, 12]\n"
          ]
        },
        {
          "output_type": "execute_result",
          "data": {
            "text/plain": [
              "[<matplotlib.lines.Line2D at 0x7f6375b67370>]"
            ]
          },
          "metadata": {},
          "execution_count": 24
        },
        {
          "output_type": "display_data",
          "data": {
            "text/plain": [
              "<Figure size 432x288 with 1 Axes>"
            ],
            "image/png": "[encoded data removed]"
          },
          "metadata": {
            "needs_background": "light"
          }
        }
      ]
    },
    {
      "cell_type": "markdown",
      "source": [
        "## Pseudo-Random Numbers"
      ],
      "metadata": {
        "collapsed": false,
        "id": "9tISEzkCAx3D"
      }
    },
    {
      "cell_type": "code",
      "execution_count": 25,
      "outputs": [
        {
          "output_type": "execute_result",
          "data": {
            "text/plain": [
              "[0.23616702306451665,\n",
              " 0.9378988813278887,\n",
              " 0.72292097931861,\n",
              " 0.4699499217383819,\n",
              " 0.7933188752122226,\n",
              " 0.021742724251374912,\n",
              " 0.10205007023990165,\n",
              " 0.302372806601679,\n",
              " 0.8086045658910277,\n",
              " 0.22010391878542213]"
            ]
          },
          "metadata": {},
          "execution_count": 25
        }
      ],
      "source": [
        "# A list of n random numbers - again we are turning a \"generator\" into a list\n",
        "n = 10\n",
        "[random.random() for i in range(n)]"
      ],
      "metadata": {
        "pycharm": {
          "name": "#%%\n"
        },
        "id": "oZ26B6XSAx3D",
        "outputId": "0907e655-debb-48e1-bdeb-c0489eca6e0e",
        "colab": {
          "base_uri": "https://localhost:8080/"
        }
      }
    },
    {
      "cell_type": "code",
      "execution_count": 26,
      "outputs": [
        {
          "output_type": "execute_result",
          "data": {
            "text/plain": [
              "<matplotlib.axes._subplots.AxesSubplot at 0x7f6375cf6850>"
            ]
          },
          "metadata": {},
          "execution_count": 26
        },
        {
          "output_type": "display_data",
          "data": {
            "text/plain": [
              "<Figure size 432x288 with 1 Axes>"
            ],
            "image/png": "[encoded data removed]"
          },
          "metadata": {
            "needs_background": "light"
          }
        }
      ],
      "source": [
        "# Scatter plot of random (x,y) coordinates\n",
        "n = 1000\n",
        "fig, ax = plt.subplots()\n",
        "ax.scatter([random.random() for i in range(n)], [random.random() for i in range(n)])\n",
        "ax"
      ],
      "metadata": {
        "pycharm": {
          "name": "#%%\n"
        },
        "id": "9orzUXsYAx3E",
        "outputId": "24b92a20-fe3e-4b68-ed69-3487bacd39c9",
        "colab": {
          "base_uri": "https://localhost:8080/",
          "height": 282
        }
      }
    },
    {
      "cell_type": "markdown",
      "source": [
        "## Chaotic Feedback\n",
        "\n",
        " * some mathematical functions produce chaotic patterns when you feed their output back in as the next input."
      ],
      "metadata": {
        "collapsed": false,
        "id": "FE_zRuRHAx3E"
      }
    },
    {
      "cell_type": "code",
      "execution_count": 37,
      "outputs": [
        {
          "output_type": "execute_result",
          "data": {
            "text/plain": [
              "[35, 38, 59, 68, 62, 20, 2, 14, 29, 65, 41, 11, 8, 56, 47, 53, 26, 44, 32, 17]"
            ]
          },
          "metadata": {},
          "execution_count": 37
        }
      ],
      "source": [
        "# Our simple pseudo-random number generator from above provides an example\n",
        "# of chaotic feedback.\n",
        "\n",
        "import time\n",
        "\n",
        "class TwoDigitRand:\n",
        "    \"\"\" Demonstrates 'chaotic feedback' algorithm - not crypographic quality randomness!! \"\"\"\n",
        "    def __init__(self, seed=None):\n",
        "        seed = seed or int(time.time()*10**3)  # clock time in milliseconds\n",
        "        self.seed = seed % 100  # 2-digit only!\n",
        "\n",
        "    def rand(self):\n",
        "        \"\"\" Chaotic feedback algorithm - the last output is used as input to compute the next one \"\"\"\n",
        "        self.seed = self.seed//10 + 7*(self.seed%10)\n",
        "        return self.seed\n",
        "\n",
        "\n",
        "r = TwoDigitRand()\n",
        "[r.rand() for i in range(20)]"
      ],
      "metadata": {
        "pycharm": {
          "name": "#%%\n"
        },
        "id": "SQW7fPIiAx3F",
        "outputId": "385a4903-8f30-4808-c2c2-f3ad37deb2ac",
        "colab": {
          "base_uri": "https://localhost:8080/"
        }
      }
    },
    {
      "cell_type": "code",
      "execution_count": 38,
      "outputs": [
        {
          "output_type": "stream",
          "name": "stdout",
          "text": [
            "Sequence seed: 17\n"
          ]
        },
        {
          "output_type": "execute_result",
          "data": {
            "text/plain": [
              "<matplotlib.axes._subplots.AxesSubplot at 0x7f6375968fd0>"
            ]
          },
          "metadata": {},
          "execution_count": 38
        },
        {
          "output_type": "display_data",
          "data": {
            "text/plain": [
              "<Figure size 432x288 with 1 Axes>"
            ],
            "image/png": "[encoded data removed]"
          },
          "metadata": {
            "needs_background": "light"
          }
        }
      ],
      "source": [
        "# Scatter plot of (seed, rand(seed))\n",
        "fig, ax = plt.subplots()\n",
        "print(\"Sequence seed:\", r.seed)\n",
        "pairs = [(r.seed, r.rand()) for i in range(n)]\n",
        "ax.plot([x for x,y in pairs], [y for x,y in pairs])\n",
        "ax"
      ],
      "metadata": {
        "pycharm": {
          "name": "#%%\n"
        },
        "id": "Qhz9BKeOAx3F",
        "outputId": "2eaddccc-8c19-4a09-bb59-0ca7746e1679",
        "colab": {
          "base_uri": "https://localhost:8080/",
          "height": 300
        }
      }
    },
    {
      "cell_type": "markdown",
      "source": [
        "## Example: computational experiment with random numbers\n",
        "\n",
        "We'll use the Histogram class developed last week to count the outcomes of the experiment"
      ],
      "metadata": {
        "collapsed": false,
        "id": "rQA7zqF_Ax3G"
      }
    },
    {
      "cell_type": "code",
      "execution_count": 39,
      "outputs": [],
      "source": [
        "class Histogram:\n",
        "    \"\"\" A simple histogram with a nice API \"\"\"\n",
        "    def __init__(self, title, xlabel=None):\n",
        "        fig, ax = plt.subplots()\n",
        "        ax.set_title(title)\n",
        "        if xlabel:\n",
        "            ax.set_xlabel(xlabel)\n",
        "        ax.set_ylabel('Count')\n",
        "        self.ax = ax\n",
        "        self.fig = fig\n",
        "        self.counts = {}\n",
        "\n",
        "    def count(self, category):\n",
        "        self.counts[category] = self.counts.get(category, 0) + 1\n",
        "\n",
        "    def plot(self):\n",
        "        self.ax.bar(self.counts.keys(), self.counts.values())\n",
        "        plt.show()"
      ],
      "metadata": {
        "pycharm": {
          "name": "#%%\n"
        },
        "id": "rvbMHHk1Ax3G"
      }
    },
    {
      "cell_type": "code",
      "execution_count": 40,
      "outputs": [
        {
          "output_type": "display_data",
          "data": {
            "text/plain": [
              "<Figure size 432x288 with 1 Axes>"
            ],
            "image/png": "[encoded data removed]"
          },
          "metadata": {
            "needs_background": "light"
          }
        }
      ],
      "source": [
        "# Experiment: Roll some dice\n",
        "def roll_dice(sides=6):\n",
        "    return (random.randint(1,sides), random.randint(1,sides))\n",
        "\n",
        "# Number rolls to use in this experiment\n",
        "n_rolls = 1000\n",
        "\n",
        "rolls = Histogram(\"Distribution of fair dice rolls\", xlabel='Sum of 2 dice')\n",
        "for i in range(n_rolls):\n",
        "    rolls.count(sum(roll_dice()))\n",
        "\n",
        "rolls.plot()"
      ],
      "metadata": {
        "pycharm": {
          "name": "#%%\n"
        },
        "id": "At0IORBZAx3G",
        "outputId": "4b6c5cf9-0b04-4d88-a283-30878761e9be",
        "colab": {
          "base_uri": "https://localhost:8080/",
          "height": 295
        }
      }
    }
  ]
}