{
  "nbformat": 4,
  "nbformat_minor": 0,
  "metadata": {
    "colab": {
      "name": "week1.ipynb",
      "provenance": [],
      "include_colab_link": true
    },
    "kernelspec": {
      "name": "python3",
      "display_name": "Python 3"
    },
    "language_info": {
      "name": "python"
    }
  },
  "cells": [
    {
      "cell_type": "markdown",
      "metadata": {
        "id": "view-in-github",
        "colab_type": "text"
      },
      "source": [
        "<a href=\"https://colab.research.google.com/github/benchrisblair/cap-comp215/blob/main/examples/week1.ipynb\" target=\"_parent\"><img src=\"https://colab.research.google.com/assets/colab-badge.svg\" alt=\"Open In Colab\"/></a>"
      ]
    },
    {
      "cell_type": "markdown",
      "source": [
        "# Welcome to Comp 215!\n",
        "This is our week 1 examples notebook and will be available on Github from the powderflask/cap-comp215 repository.\n",
        "\n",
        "As usual, the first code block just imports the modules we will use."
      ],
      "metadata": {
        "id": "WBMC0GrjNRTM"
      }
    },
    {
      "cell_type": "code",
      "execution_count": 3,
      "metadata": {
        "id": "C1a6aDXAM0WM"
      },
      "outputs": [],
      "source": [
        "import matplotlib.pyplot as plt\n",
        "from pprint import pprint"
      ]
    },
    {
      "cell_type": "markdown",
      "source": [
        "## Using Code to gain insights\n",
        "\n",
        "Can a piece of code help us deepen our understanding of real-world phenomena?  Or explain complex concepts?\n",
        "\n",
        "### Example: Exponential Growth\n",
        "\n",
        "Although exponential growth occurs in many natural systems, many people find it unintuitive and have a hard time making predictions about it.\n",
        "\n",
        "#### Pop Quiz:\n",
        "Duckweed plants double every day in open water. If a pond starts with 2 duckweed plants on day 1 and is completely covered after one month (30 days), on what day is the pond half covered?"
      ],
      "metadata": {
        "id": "k70NJ-JTNwYN"
      }
    },
    {
      "cell_type": "code",
      "source": [
        "initial_duckweed = 2\n",
        "duckweed = [initial_duckweed, ]\n",
        "for day in range(30):\n",
        "    duckweed.append(duckweed[-1]*2)\n",
        "print(duckweed)"
      ],
      "metadata": {
        "colab": {
          "base_uri": "https://localhost:8080/"
        },
        "id": "HZSz8IftqJ72",
        "outputId": "88358a49-db21-46d4-fb40-325f4a87568d"
      },
      "execution_count": 4,
      "outputs": [
        {
          "output_type": "stream",
          "name": "stdout",
          "text": [
            "[2, 4, 8, 16, 32, 64, 128, 256, 512, 1024, 2048, 4096, 8192, 16384, 32768, 65536, 131072, 262144, 524288, 1048576, 2097152, 4194304, 8388608, 16777216, 33554432, 67108864, 134217728, 268435456, 536870912, 1073741824, 2147483648]\n"
          ]
        }
      ]
    },
    {
      "cell_type": "markdown",
      "source": [
        "## Plot the Growth\n",
        "We'll use matplotlib not because it is awesome, but because it is the standard tool most scientists use."
      ],
      "metadata": {
        "id": "b6w3F2yErxuB"
      }
    },
    {
      "cell_type": "code",
      "source": [
        "pct_cover = range(0, 30)\n",
        "days = range(0, len(pct_cover))\n",
        "\n",
        "fig, ax = plt.subplots()\n",
        "ax.set_title(\"Duckweed growth over 30 days\")\n",
        "ax.plot(days, pct_cover, label=\"% pond coverage\")\n",
        "plt.show()"
      ],
      "metadata": {
        "colab": {
          "base_uri": "https://localhost:8080/",
          "height": 281
        },
        "id": "i_5lOF51r63i",
        "outputId": "0c6365b8-c56c-47c3-8450-1cd816188eaa"
      },
      "execution_count": 5,
      "outputs": [
        {
          "output_type": "display_data",
          "data": {
            "text/plain": [
              "<Figure size 432x288 with 1 Axes>"
            ],
            "image/png": "[encoded data removed]"
          },
          "metadata": {
            "needs_background": "light"
          }
        }
      ]
    },
    {
      "cell_type": "code",
      "execution_count": 6,
      "outputs": [
        {
          "output_type": "display_data",
          "data": {
            "text/plain": [
              "<Figure size 432x288 with 1 Axes>"
            ],
            "image/png": "[encoded data removed]"
          },
          "metadata": {
            "needs_background": "light"
          }
        }
      ],
      "source": [
        "pct_cover = [(duckweed[day]/duckweed[-1])*100 for day in range(len(duckweed))]\n",
        "days = range(0, len(pct_cover))\n",
        "\n",
        "fig, ax = plt.subplots()\n",
        "ax.set_title(\"Duckweed growth over 30 days\")\n",
        "ax.plot(days, pct_cover, label=\"% pond coverage\")\n",
        "plt.show()"
      ],
      "metadata": {
        "pycharm": {
          "name": "#%%\n"
        },
        "id": "A0WAU6R4BeSn",
        "outputId": "78f0d06e-31cd-4320-f2b1-6fef10ae876a",
        "colab": {
          "base_uri": "https://localhost:8080/",
          "height": 281
        }
      }
    }
  ]
}