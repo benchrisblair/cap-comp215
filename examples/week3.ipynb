{
  "nbformat": 4,
  "nbformat_minor": 0,
  "metadata": {
    "colab": {
      "name": "week3.ipynb",
      "provenance": [],
      "include_colab_link": true
    },
    "kernelspec": {
      "name": "python3",
      "display_name": "Python 3"
    },
    "language_info": {
      "name": "python"
    }
  },
  "cells": [
    {
      "cell_type": "markdown",
      "metadata": {
        "id": "view-in-github",
        "colab_type": "text"
      },
      "source": [
        "<a href=\"https://colab.research.google.com/github/benchrisblair/cap-comp215/blob/main/examples/week3.ipynb\" target=\"_parent\"><img src=\"https://colab.research.google.com/assets/colab-badge.svg\" alt=\"Open In Colab\"/></a>"
      ]
    },
    {
      "cell_type": "markdown",
      "source": [
        "# Classes and Objects\n",
        "This is our week 3 examples notebook and will be available on Github from the powderflask/cap-comp215 repository.\n",
        "\n",
        "As usual, the first code block just imports the modules we will use."
      ],
      "metadata": {
        "id": "WBMC0GrjNRTM"
      }
    },
    {
      "cell_type": "code",
      "execution_count": 1,
      "outputs": [
        {
          "output_type": "execute_result",
          "data": {
            "text/plain": [
              "'Exploring'"
            ],
            "application/vnd.google.colaboratory.intrinsic+json": {
              "type": "string"
            }
          },
          "metadata": {},
          "execution_count": 1
        }
      ],
      "source": [
        "import math\n",
        "import random\n",
        "import matplotlib.pyplot as plt\n",
        "from dataclasses import dataclass\n",
        "from pprint import pprint\n",
        "\n",
        "# Everything in Python is an object and everything has a \"type\" which is its class\n",
        "\n",
        "# Even a function is an object...\n",
        "def sqr(a):\n",
        "    return a*a\n",
        "\n",
        "type(sqr)\n",
        "\n",
        "# ... so we can even define additional \"attributes\" for that object:\n",
        "sqr.skill = \"Exploring\"\n",
        "sqr.skill"
      ],
      "metadata": {
        "pycharm": {
          "name": "#%%\n"
        },
        "id": "Xuhr0Iqrkl7M",
        "outputId": "b21d60f3-eeb0-4448-c6da-fb2bfdcdd68d",
        "colab": {
          "base_uri": "https://localhost:8080/",
          "height": 35
        }
      }
    },
    {
      "cell_type": "markdown",
      "source": [
        "## Problem: Collision detection using circles"
      ],
      "metadata": {
        "collapsed": false,
        "id": "9kidyXF4kl7N"
      }
    },
    {
      "cell_type": "code",
      "execution_count": 2,
      "outputs": [
        {
          "output_type": "execute_result",
          "data": {
            "text/plain": [
              "True"
            ]
          },
          "metadata": {},
          "execution_count": 2
        }
      ],
      "source": [
        "@dataclass\n",
        "class Point2D:\n",
        "    \"\"\" Representation for a point in 2D space \"\"\"\n",
        "    x: float\n",
        "    y: float\n",
        "    \n",
        "    def __eq__(self, other):\n",
        "        \"\"\" Return True iff the 2 points are at the same coordinate \"\"\"\n",
        "        return self.x==other.x and self.y==other.y\n",
        "    \n",
        "    def __add__(self, other):\n",
        "        \"\"\" Return the point representing the sum of this point and the other \"\"\"\n",
        "        return Point2D(self.x+other.x, self.y+other.y)\n",
        "\n",
        "    def distance(self, other):\n",
        "        \"\"\" Return the distance between this point and the other one \"\"\"\n",
        "        return math.sqrt(\n",
        "            (self.x - other.x)**2 + \n",
        "            (self.y - other.y)**2\n",
        "        )\n",
        "\n",
        "p1 = Point2D(4, 9)\n",
        "p2 = Point2D(4, 9)\n",
        "\n",
        "p1.distance(p2)\n",
        "p1+p2\n",
        "p1==p2"
      ],
      "metadata": {
        "pycharm": {
          "name": "#%%\n"
        },
        "id": "JzVlJnx0kl7O",
        "outputId": "e4871070-2bb5-46b3-ef8b-8c954c2b31f7",
        "colab": {
          "base_uri": "https://localhost:8080/"
        }
      }
    },
    {
      "cell_type": "code",
      "source": [
        "@dataclass\n",
        "class Circle:\n",
        "    \"\"\" Representation for the data and operations on a circle \"\"\"\n",
        "    radius: float\n",
        "    centre: Point2D\n",
        "\n",
        "    @property\n",
        "    def x(self):\n",
        "        return self.centre.x\n",
        "    \n",
        "    @property\n",
        "    def y(self):\n",
        "        return self.centre.y\n",
        "\n",
        "    # Can eliminate the commented out code below by using @dataclass\n",
        "    # def __init__(self, radius, centre):\n",
        "    #     self.radius = radius\n",
        "    #     self.centre = centre\n",
        "    \n",
        "    # def __str__(self):\n",
        "    #     return f\"Circle({self.radius}, {self.centre})\"\n",
        "\n",
        "    # def __repr__(self):\n",
        "    #     return str(self)\n",
        "\n",
        "    # This is called an 'accessor' method; it does not modify the circle object --> immutable\n",
        "    def area(self):\n",
        "        \"\"\" Return the area of this circle \"\"\"\n",
        "        return math.pi * self.radius ** 2\n",
        "\n",
        "    # This is called a 'mutator' method; it modifies the Circle object --> mutable\n",
        "    def move(self, offset): \n",
        "        \"\"\" Move this circle by given Point2D offset \"\"\"\n",
        "        # self.centre = tuple(ord+off for ord,off in zip(self.centre, offset))\n",
        "        self.centre = self.centre + offset\n",
        "\n",
        "    def distance(self, other):\n",
        "        \"\"\" Return the distance between this circle and the other one \"\"\"\n",
        "        return math.sqrt(\n",
        "            (self.x - other.x)**2 + \n",
        "            (self.y - other.y)**2\n",
        "        )\n",
        "\n",
        "    def intersects(self, other):\n",
        "        \"\"\" Return True iff this circle intersects the other one \"\"\"\n",
        "        return self.radius + other.radius > self.distance(other)\n",
        "\n",
        "c = Circle(10, Point2D(5, 9))\n",
        "c.x, c.y, c.radius, c.centre\n",
        "c.move(Point2D(2, 3))\n",
        "\n",
        "first = Circle(8, Point2D(3, 4))\n",
        "second = Circle(11, Point2D(6, 8))\n",
        "\n",
        "first.distance(second)\n",
        "first.intersects(second)"
      ],
      "metadata": {
        "id": "eTlW9Blw_0yA",
        "outputId": "752b673c-43ee-494a-969e-89a57825be75",
        "colab": {
          "base_uri": "https://localhost:8080/"
        }
      },
      "execution_count": 3,
      "outputs": [
        {
          "output_type": "execute_result",
          "data": {
            "text/plain": [
              "True"
            ]
          },
          "metadata": {},
          "execution_count": 3
        }
      ]
    },
    {
      "cell_type": "code",
      "execution_count": 4,
      "outputs": [],
      "source": [
        "# Test Circle class\n"
      ],
      "metadata": {
        "pycharm": {
          "name": "#%%\n"
        },
        "id": "yAie8rLAkl7P"
      }
    },
    {
      "cell_type": "markdown",
      "source": [
        "## Aside:\n",
        "\n",
        "All of Python's operators are just syntactic sugar (i.e., shorthand) to call specific methods."
      ],
      "metadata": {
        "id": "U3yYb7rC3i1u"
      }
    },
    {
      "cell_type": "code",
      "source": [
        "# All of Python's operators are just shorthand for methods\n",
        "\"abc\" + \"xyz\"\n",
        "\"abc\".__add__(\"xyz\")\n",
        "str.__add__(\"abc\", \"xyz\")\n",
        "\n",
        "\"abc\" == \"xyz\"\n",
        "\"abc\".__eq__(\"xyz\")\n",
        "str.__eq__(\"abc\", \"xyz\")\n"
      ],
      "metadata": {
        "id": "1Drax_u72tU8",
        "outputId": "ee4f8edb-2561-4d9e-d71c-6cb7b05b4dfc",
        "colab": {
          "base_uri": "https://localhost:8080/"
        }
      },
      "execution_count": 5,
      "outputs": [
        {
          "output_type": "execute_result",
          "data": {
            "text/plain": [
              "False"
            ]
          },
          "metadata": {},
          "execution_count": 5
        }
      ]
    },
    {
      "cell_type": "markdown",
      "source": [
        "## Problem:  Counting\n",
        "When conducting an experiment, it is common to count occurances.  For example\n",
        "\n",
        "* in a physics experiment, we might count the number of atomic collisions in which certain sub-atomic particles were produced\n",
        "* in biology, we might count the number of cells infected by a virus after a fixed time period\n",
        "* in a computational experiment, we might count the frequency with which clusters of a give size form\n",
        "\n",
        "To visualize such experimental results, we would generally plot a histogram, like this:\n"
      ],
      "metadata": {
        "collapsed": false,
        "id": "KgcBUGH4kl7Q"
      }
    },
    {
      "cell_type": "code",
      "source": [
        "# Experiment: Get the age distribution for Cap students\n",
        "n_cap_students = 11500\n",
        "\n",
        "# Simulate getting the age for one Cap student\n",
        "def get_age(student_id):\n",
        "    return int(random.normalvariate(mu=24, sigma=4))  # Normally distributed age with mean of 24 years\n",
        "\n",
        "# Run experiment to obtain the age for each student\n",
        "data = [get_age(id) for id in range(n_cap_students)]\n",
        "\n",
        "# Set the number of bins to the number of ages we found\n",
        "n_bins = len(set(data))\n",
        "\n",
        "fig, ax = plt.subplots()\n",
        "ax.set_title(\"Age distribution for Cap Students\")\n",
        "ax.set_xlabel('Age (years)')\n",
        "\n",
        "# plot a histogram of the data, divided into n \"equal width\" bins\n",
        "ax.hist(data, bins=n_bins)\n",
        "plt.show()"
      ],
      "metadata": {
        "id": "HZSz8IftqJ72",
        "outputId": "5a96dadb-e135-4fda-97f3-507941d8e0e7",
        "colab": {
          "base_uri": "https://localhost:8080/",
          "height": 295
        }
      },
      "execution_count": 7,
      "outputs": [
        {
          "output_type": "display_data",
          "data": {
            "text/plain": [
              "<Figure size 432x288 with 1 Axes>"
            ],
            "image/png": "[encoded data removed]"
          },
          "metadata": {
            "needs_background": "light"
          }
        }
      ]
    },
    {
      "cell_type": "markdown",
      "source": [
        "## Custom Histogram Class\n",
        "\n",
        "Define our own historgram class that serves as a \"wrapper\" for clunky pyplot ax.hist"
      ],
      "metadata": {
        "id": "naDVayQLkznK"
      }
    },
    {
      "cell_type": "code",
      "source": [
        "class Histogram:\n",
        "    \"\"\" A simple histogram with a nice API \"\"\"\n",
        "    def __init__(self, title, xlabel=None):\n",
        "        fig, ax = plt.subplots()\n",
        "        ax.set_title(title)\n",
        "        if xlabel:\n",
        "            ax.set_xlabel(xlabel)\n",
        "        ax.set_ylabel('Count')\n",
        "        self.ax = ax\n",
        "        self.fig = fig\n",
        "        self.counts = {}\n",
        "\n",
        "    def count(self, category):\n",
        "        self.counts[category] = self.counts.get(category, 0) + 1\n",
        "\n",
        "    def plot(self):\n",
        "        self.ax.bar(self.counts.keys(), self.counts.values())\n",
        "        plt.show()"
      ],
      "metadata": {
        "id": "Ai9qb3Bolw4h"
      },
      "execution_count": 8,
      "outputs": []
    },
    {
      "cell_type": "code",
      "execution_count": 9,
      "outputs": [
        {
          "output_type": "display_data",
          "data": {
            "text/plain": [
              "<Figure size 432x288 with 1 Axes>"
            ],
            "image/png": "[encoded data removed]"
          },
          "metadata": {
            "needs_background": "light"
          }
        }
      ],
      "source": [
        "hist = Histogram(title='Age Distribution for Cap Students', xlabel='Age (years)')\n",
        "for id in range(n_cap_students):\n",
        "    hist.count(get_age(id))\n",
        "hist.plot()"
      ],
      "metadata": {
        "pycharm": {
          "name": "#%%\n"
        },
        "id": "QxLQc9nokl7T",
        "outputId": "49d69e53-da9e-41ec-e24c-9e2667296d49",
        "colab": {
          "base_uri": "https://localhost:8080/",
          "height": 295
        }
      }
    }
  ]
}