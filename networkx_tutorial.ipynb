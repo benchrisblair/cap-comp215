{
  "cells": [
    {
      "cell_type": "markdown",
      "id": "fb7469c2",
      "metadata": {
        "id": "fb7469c2"
      },
      "source": [
        "# NetworkX Tutorial\n",
        "\n",
        "This guide can help you start working with NetworkX.\n",
        "\n",
        "Downloaded from: https://networkx.org/documentation/stable/tutorial.html"
      ]
    },
    {
      "cell_type": "markdown",
      "source": [
        "# Creating a graph"
      ],
      "metadata": {
        "id": "ewGRvNprfnfb"
      },
      "id": "ewGRvNprfnfb"
    },
    {
      "cell_type": "markdown",
      "source": [
        "Create an empty graph with no nodes and no edges."
      ],
      "metadata": {
        "id": "ApsUV9DflYEt"
      },
      "id": "ApsUV9DflYEt"
    },
    {
      "cell_type": "code",
      "execution_count": 1,
      "id": "1ef407a0",
      "metadata": {
        "id": "1ef407a0"
      },
      "outputs": [],
      "source": [
        "import networkx as nx\n",
        "G = nx.Graph()"
      ]
    },
    {
      "cell_type": "markdown",
      "source": [
        "By definition, a `Graph` is a collection of nodes (vertices) along with\n",
        "identified pairs of nodes (called edges, links, etc).  In NetworkX, nodes can\n",
        "be any [hashable](https://docs.python.org/3/glossary.html#term-hashable) object e.g., a text string, an image, an XML object,\n",
        "another Graph, a customized node object, etc."
      ],
      "metadata": {
        "id": "Rot2-YWrfb5I"
      },
      "id": "Rot2-YWrfb5I"
    },
    {
      "cell_type": "markdown",
      "source": [
        "**Note**: Python’s `None` object is not allowed to be used as a node. It determines whether optional function arguments have been assigned in many functions."
      ],
      "metadata": {
        "id": "WoFgOtAEh-y9"
      },
      "id": "WoFgOtAEh-y9"
    },
    {
      "cell_type": "markdown",
      "id": "51b09002",
      "metadata": {
        "id": "51b09002"
      },
      "source": [
        "# Nodes"
      ]
    },
    {
      "cell_type": "markdown",
      "source": [
        "The graph `G` can be grown in several ways.  NetworkX includes many\n",
        "[graph generator functions](https://networkx.org/documentation/stable/reference/generators.html) and\n",
        "[facilities to read and write graphs in many formats](https://networkx.org/documentation/stable/reference/readwrite/index.html).\n",
        "To get started though we’ll look at simple manipulations.  You can add one node\n",
        "at a time,"
      ],
      "metadata": {
        "id": "RZ_vb81nlfVp"
      },
      "id": "RZ_vb81nlfVp"
    },
    {
      "cell_type": "code",
      "execution_count": 2,
      "id": "8d63798f",
      "metadata": {
        "id": "8d63798f"
      },
      "outputs": [],
      "source": [
        "G.add_node(1)"
      ]
    },
    {
      "cell_type": "markdown",
      "id": "d42bf93b",
      "metadata": {
        "id": "d42bf93b"
      },
      "source": [
        "or add nodes from any [iterable](https://docs.python.org/3/glossary.html#term-iterable) container, such as a list"
      ]
    },
    {
      "cell_type": "code",
      "execution_count": 3,
      "id": "01cb2a64",
      "metadata": {
        "id": "01cb2a64"
      },
      "outputs": [],
      "source": [
        "G.add_nodes_from([2, 3])"
      ]
    },
    {
      "cell_type": "markdown",
      "id": "93b663d9",
      "metadata": {
        "id": "93b663d9"
      },
      "source": [
        "You can also add nodes along with node\n",
        "attributes if your container yields 2-tuples of the form\n",
        "`(node, node_attribute_dict)`:"
      ]
    },
    {
      "cell_type": "code",
      "source": [
        "G.add_nodes_from([\n",
        "    (4, {\"color\": \"red\"}),\n",
        "    (5, {\"color\": \"green\"}),\n",
        "])"
      ],
      "metadata": {
        "id": "zpPGTVMQega_"
      },
      "id": "zpPGTVMQega_",
      "execution_count": 4,
      "outputs": []
    },
    {
      "cell_type": "markdown",
      "source": [
        "Node attributes are discussed further below.\n",
        "\n",
        "Nodes from one graph can be incorporated into another:"
      ],
      "metadata": {
        "id": "df50EqtyeyEZ"
      },
      "id": "df50EqtyeyEZ"
    },
    {
      "cell_type": "code",
      "execution_count": 5,
      "id": "826f0bf5",
      "metadata": {
        "id": "826f0bf5"
      },
      "outputs": [],
      "source": [
        "H = nx.path_graph(10)\n",
        "G.add_nodes_from(H)"
      ]
    },
    {
      "cell_type": "markdown",
      "id": "9222479c",
      "metadata": {
        "id": "9222479c"
      },
      "source": [
        "`G` now contains the nodes of `H` as nodes of `G`.\n",
        "In contrast, you could use the graph `H` as a node in `G`."
      ]
    },
    {
      "cell_type": "code",
      "execution_count": 6,
      "id": "e57608e3",
      "metadata": {
        "id": "e57608e3"
      },
      "outputs": [],
      "source": [
        "G.add_node(H)"
      ]
    },
    {
      "cell_type": "markdown",
      "id": "a28b6029",
      "metadata": {
        "id": "a28b6029"
      },
      "source": [
        "The graph `G` now contains `H` as a node.  This flexibility is very powerful as\n",
        "it allows graphs of graphs, graphs of files, graphs of functions and much more.\n",
        "It is worth thinking about how to structure your application so that the nodes\n",
        "are useful entities.  Of course you can always use a unique identifier in `G`\n",
        "and have a separate dictionary keyed by identifier to the node information if\n",
        "you prefer."
      ]
    },
    {
      "cell_type": "markdown",
      "source": [
        "**Note**: You should not change the node object if the hash depends on its contents."
      ],
      "metadata": {
        "id": "gbBKhqwChx_C"
      },
      "id": "gbBKhqwChx_C"
    },
    {
      "cell_type": "markdown",
      "source": [
        "# Edges"
      ],
      "metadata": {
        "id": "xT6e25k4fzwm"
      },
      "id": "xT6e25k4fzwm"
    },
    {
      "cell_type": "markdown",
      "source": [
        "`G` can also be grown by adding one edge at a time,"
      ],
      "metadata": {
        "id": "_lOM3elcltjL"
      },
      "id": "_lOM3elcltjL"
    },
    {
      "cell_type": "code",
      "execution_count": 7,
      "id": "cba90278",
      "metadata": {
        "id": "cba90278"
      },
      "outputs": [],
      "source": [
        "G.add_edge(1, 2)\n",
        "e = (2, 3)\n",
        "G.add_edge(*e)  # unpack edge tuple*"
      ]
    },
    {
      "cell_type": "markdown",
      "id": "14d18982",
      "metadata": {
        "id": "14d18982"
      },
      "source": [
        "by adding a list of edges,"
      ]
    },
    {
      "cell_type": "code",
      "execution_count": 8,
      "id": "bb4045ee",
      "metadata": {
        "id": "bb4045ee"
      },
      "outputs": [],
      "source": [
        "G.add_edges_from([(1, 2), (1, 3)])"
      ]
    },
    {
      "cell_type": "markdown",
      "id": "379da466",
      "metadata": {
        "id": "379da466"
      },
      "source": [
        "or by adding any [ebunch](https://networkx.org/documentation/stable/reference/glossary.html#term-ebunch) of edges.  An *ebunch* is any iterable\n",
        "container of edge-tuples.  An edge-tuple can be a 2-tuple of nodes or a 3-tuple\n",
        "with 2 nodes followed by an edge attribute dictionary, e.g.,\n",
        "`(2, 3, {'weight': 3.1415})`.  Edge attributes are discussed further\n",
        "below."
      ]
    },
    {
      "cell_type": "code",
      "execution_count": 9,
      "id": "66b94f42",
      "metadata": {
        "id": "66b94f42"
      },
      "outputs": [],
      "source": [
        "G.add_edges_from(H.edges)"
      ]
    },
    {
      "cell_type": "markdown",
      "id": "e454a817",
      "metadata": {
        "id": "e454a817"
      },
      "source": [
        "There are no complaints when adding existing nodes or edges. For example,\n",
        "after removing all nodes and edges,"
      ]
    },
    {
      "cell_type": "code",
      "execution_count": 10,
      "id": "337f0047",
      "metadata": {
        "id": "337f0047"
      },
      "outputs": [],
      "source": [
        "G.clear()"
      ]
    },
    {
      "cell_type": "markdown",
      "id": "bd32022c",
      "metadata": {
        "id": "bd32022c"
      },
      "source": [
        "we add new nodes/edges and NetworkX quietly ignores any that are\n",
        "already present."
      ]
    },
    {
      "cell_type": "code",
      "execution_count": 11,
      "id": "6b759ac4",
      "metadata": {
        "id": "6b759ac4"
      },
      "outputs": [],
      "source": [
        "G.add_edges_from([(1, 2), (1, 3)])\n",
        "G.add_node(1)\n",
        "G.add_edge(1, 2)\n",
        "G.add_node(\"spam\")        # adds node \"spam\"\n",
        "G.add_nodes_from(\"spam\")  # adds 4 nodes: 's', 'p', 'a', 'm'\n",
        "G.add_edge(3, 'm')"
      ]
    },
    {
      "cell_type": "markdown",
      "id": "12e69ae2",
      "metadata": {
        "id": "12e69ae2"
      },
      "source": [
        "At this stage the graph `G` consists of 8 nodes and 3 edges, as can be seen by:"
      ]
    },
    {
      "cell_type": "code",
      "execution_count": 12,
      "id": "6843e647",
      "metadata": {
        "id": "6843e647",
        "outputId": "0c2216f4-0bea-4a51-aa24-7dcd087504bf",
        "colab": {
          "base_uri": "https://localhost:8080/"
        }
      },
      "outputs": [
        {
          "output_type": "execute_result",
          "data": {
            "text/plain": [
              "8"
            ]
          },
          "metadata": {},
          "execution_count": 12
        }
      ],
      "source": [
        "G.number_of_nodes()"
      ]
    },
    {
      "cell_type": "code",
      "source": [
        "G.number_of_edges()"
      ],
      "metadata": {
        "id": "24R8mJsehPhu",
        "outputId": "883c5814-bb2e-41ff-8cfb-04b80ccbf0cd",
        "colab": {
          "base_uri": "https://localhost:8080/"
        }
      },
      "id": "24R8mJsehPhu",
      "execution_count": 13,
      "outputs": [
        {
          "output_type": "execute_result",
          "data": {
            "text/plain": [
              "3"
            ]
          },
          "metadata": {},
          "execution_count": 13
        }
      ]
    },
    {
      "cell_type": "markdown",
      "source": [
        "**Note**: The order of adjacency reporting (e.g., `G.adj`, `G.successors`, `G.predecessors`) is the order of edge addition. However, the order of `G.edges` is the order of the adjacencies which includes both the order of the nodes and each node’s adjacencies. See example below:"
      ],
      "metadata": {
        "id": "JcYyQBOPhWm4"
      },
      "id": "JcYyQBOPhWm4"
    },
    {
      "cell_type": "code",
      "execution_count": 14,
      "id": "010d2cc4",
      "metadata": {
        "id": "010d2cc4"
      },
      "outputs": [],
      "source": [
        "DG = nx.DiGraph()\n",
        "DG.add_edge(2, 1)   # adds the nodes in order 2, 1\n",
        "DG.add_edge(1, 3)\n",
        "DG.add_edge(2, 4)\n",
        "DG.add_edge(1, 2)\n",
        "assert list(DG.successors(2)) == [1, 4]\n",
        "assert list(DG.edges) == [(2, 1), (2, 4), (1, 3), (1, 2)]"
      ]
    },
    {
      "cell_type": "markdown",
      "id": "8e73f9fb",
      "metadata": {
        "id": "8e73f9fb"
      },
      "source": [
        "# Examining elements of a graph"
      ]
    },
    {
      "cell_type": "markdown",
      "source": [
        "We can examine the nodes and edges.\n",
        "\n",
        "Four basic graph properties facilitate\n",
        "reporting: `G.nodes`, `G.edges`, `G.adj` and `G.degree`.  These\n",
        "are set-like views of the nodes, edges, neighbors (adjacencies), and degrees\n",
        "of nodes in a graph. They offer a continually updated read-only view into\n",
        "the graph structure. They are also dict-like in that you can look up node\n",
        "and edge data attributes via the views and iterate with data attributes\n",
        "using the methods `.items()` and `.data()`.\n",
        "\n",
        "If you want a specific container type instead of a view, you can specify one. Here we use lists, though sets, dicts, tuples and other containers may be\n",
        "better in other contexts."
      ],
      "metadata": {
        "id": "6kve23tZmCn4"
      },
      "id": "6kve23tZmCn4"
    },
    {
      "cell_type": "code",
      "execution_count": 15,
      "id": "9bbb69ae",
      "metadata": {
        "id": "9bbb69ae",
        "outputId": "cd923bf5-a480-4e20-aa12-d4e1fe5238c0",
        "colab": {
          "base_uri": "https://localhost:8080/"
        }
      },
      "outputs": [
        {
          "output_type": "execute_result",
          "data": {
            "text/plain": [
              "2"
            ]
          },
          "metadata": {},
          "execution_count": 15
        }
      ],
      "source": [
        "list(G.nodes)\n",
        "# Output: [1, 2, 3, 'spam', 's', 'p', 'a', 'm']\n",
        "\n",
        "list(G.edges)\n",
        "# Output: [(1, 2), (1, 3), (3, 'm')]\n",
        "\n",
        "list(G.adj[1])  # or list(G.neighbors(1))\n",
        "# Output: [2, 3]\n",
        "\n",
        "G.degree[1]  # the number of edges incident to 1\n",
        "# Output: 2"
      ]
    },
    {
      "cell_type": "markdown",
      "id": "1a027f17",
      "metadata": {
        "id": "1a027f17"
      },
      "source": [
        "One can specify to report the edges and degree from a subset of all nodes\n",
        "using an [nbunch](https://networkx.org/documentation/stable/reference/glossary.html#term-nbunch). An *nbunch* is any of: `None` (meaning all nodes),\n",
        "a node, or an iterable container of nodes that is not itself a node in the\n",
        "graph."
      ]
    },
    {
      "cell_type": "code",
      "execution_count": 16,
      "id": "f320ad18",
      "metadata": {
        "id": "f320ad18",
        "outputId": "e135e27e-fb4e-44cc-cd2e-fc8b7a78662a",
        "colab": {
          "base_uri": "https://localhost:8080/"
        }
      },
      "outputs": [
        {
          "output_type": "execute_result",
          "data": {
            "text/plain": [
              "DegreeView({2: 1, 3: 2})"
            ]
          },
          "metadata": {},
          "execution_count": 16
        }
      ],
      "source": [
        "G.edges([2, 'm'])\n",
        "# Output: EdgeDataView([(2, 1), ('m', 3)])\n",
        "\n",
        "G.degree([2, 3])\n",
        "# Output: DegreeView({2: 1, 3: 2})"
      ]
    },
    {
      "cell_type": "markdown",
      "id": "3ef088d7",
      "metadata": {
        "id": "3ef088d7"
      },
      "source": [
        "# Removing elements from a graph"
      ]
    },
    {
      "cell_type": "markdown",
      "source": [
        "One can remove nodes and edges from the graph in a similar fashion to adding.\n",
        "Use methods\n",
        "`Graph.remove_node()`,\n",
        "`Graph.remove_nodes_from()`,\n",
        "`Graph.remove_edge()`\n",
        "and\n",
        "`Graph.remove_edges_from()`, e.g."
      ],
      "metadata": {
        "id": "cfFUSMAJnqHH"
      },
      "id": "cfFUSMAJnqHH"
    },
    {
      "cell_type": "code",
      "execution_count": 17,
      "id": "655cc427",
      "metadata": {
        "id": "655cc427"
      },
      "outputs": [],
      "source": [
        "G.remove_node(2)\n",
        "G.remove_nodes_from(\"spam\")\n",
        "list(G.nodes) # Output: [1, 3, 'spam']\n",
        "G.remove_edge(1, 3)"
      ]
    },
    {
      "cell_type": "markdown",
      "id": "ed43e7f7",
      "metadata": {
        "id": "ed43e7f7"
      },
      "source": [
        "# Using the graph constructors"
      ]
    },
    {
      "cell_type": "markdown",
      "source": [
        "Graph objects do not have to be built up incrementally - data specifying\n",
        "graph structure can be passed directly to the constructors of the various\n",
        "graph classes.\n",
        "When creating a graph structure by instantiating one of the graph\n",
        "classes you can specify data in several formats."
      ],
      "metadata": {
        "id": "H0B5cGwMcCXx"
      },
      "id": "H0B5cGwMcCXx"
    },
    {
      "cell_type": "code",
      "execution_count": null,
      "id": "1f736904",
      "metadata": {
        "id": "1f736904"
      },
      "outputs": [],
      "source": [
        "G.add_edge(1, 2)\n",
        "H = nx.DiGraph(G)  # create a DiGraph using the connections from G\n",
        "list(H.edges())\n",
        "# Output: [(1, 2), (2, 1)]\n",
        "\n",
        "edgelist = [(0, 1), (1, 2), (2, 3)]\n",
        "H = nx.Graph(edgelist)  # create a graph from an edge list\n",
        "list(H.edges())\n",
        "# Output: [(0, 1), (1, 2), (2, 3)]\n",
        "\n",
        "adjacency_dict = {0: (1, 2), 1: (0, 2), 2: (0, 1)}\n",
        "H = nx.Graph(adjacency_dict)  # create a Graph dict mapping nodes to nbrs\n",
        "list(H.edges())\n",
        "# Output: [(0, 1), (0, 2), (1, 2)]"
      ]
    },
    {
      "cell_type": "markdown",
      "id": "3d686687",
      "metadata": {
        "id": "3d686687"
      },
      "source": [
        "# What to use as nodes and edges"
      ]
    },
    {
      "cell_type": "markdown",
      "source": [
        "You might notice that nodes and edges are not specified as NetworkX\n",
        "objects.  This leaves you free to use meaningful items as nodes and\n",
        "edges. The most common choices are numbers or strings, but a node can\n",
        "be any hashable object (except `None`), and an edge can be associated\n",
        "with any object `x` using `G.add_edge(n1, n2, object=x)`.\n",
        "\n",
        "As an example, `n1` and `n2` could be protein objects from the RCSB Protein\n",
        "Data Bank, and `x` could refer to an XML record of publications detailing\n",
        "experimental observations of their interaction.\n",
        "\n",
        "We have found this power quite useful, but its abuse\n",
        "can lead to surprising behavior unless one is familiar with Python.\n",
        "If in doubt, consider using `convert_node_labels_to_integers()` to obtain\n",
        "a more traditional graph with integer labels."
      ],
      "metadata": {
        "id": "SF7MHwqNcH0w"
      },
      "id": "SF7MHwqNcH0w"
    },
    {
      "cell_type": "markdown",
      "source": [
        "# Accessing edges and neighbors"
      ],
      "metadata": {
        "id": "ILL3-WDqb8ft"
      },
      "id": "ILL3-WDqb8ft"
    },
    {
      "cell_type": "markdown",
      "source": [
        "In addition to the views `Graph.edges`, and `Graph.adj`,\n",
        "access to edges and neighbors is possible using subscript notation."
      ],
      "metadata": {
        "id": "G7OVIvV6cLXR"
      },
      "id": "G7OVIvV6cLXR"
    },
    {
      "cell_type": "code",
      "execution_count": null,
      "id": "bcbc4cd4",
      "metadata": {
        "id": "bcbc4cd4"
      },
      "outputs": [],
      "source": [
        "G = nx.Graph([(1, 2, {\"color\": \"yellow\"})])\n",
        "G[1]  # same as G.adj[1]\n",
        "# Output: AtlasView({2: {'color': 'yellow'}})\n",
        "\n",
        "G[1][2]\n",
        "# Output: {'color': 'yellow'}\n",
        "\n",
        "G.edges[1, 2]\n",
        "# Output: {'color': 'yellow'}"
      ]
    },
    {
      "cell_type": "markdown",
      "id": "8625b787",
      "metadata": {
        "id": "8625b787"
      },
      "source": [
        "You can get/set the attributes of an edge using subscript notation\n",
        "if the edge already exists."
      ]
    },
    {
      "cell_type": "code",
      "execution_count": 25,
      "id": "9da98741",
      "metadata": {
        "id": "9da98741",
        "outputId": "59f64611-0d0a-485b-d08c-0fd2401b9f3e",
        "colab": {
          "base_uri": "https://localhost:8080/"
        }
      },
      "outputs": [
        {
          "output_type": "execute_result",
          "data": {
            "text/plain": [
              "{'color': 'red'}"
            ]
          },
          "metadata": {},
          "execution_count": 25
        }
      ],
      "source": [
        "G.add_edge(1, 3)\n",
        "G[1][3]['color'] = \"blue\"\n",
        "G.edges[1, 2]['color'] = \"red\"\n",
        "G.edges[1, 2]\n",
        "# Output: {'color': 'red'}"
      ]
    },
    {
      "cell_type": "markdown",
      "id": "91c21954",
      "metadata": {
        "id": "91c21954"
      },
      "source": [
        "Fast examination of all (node, adjacency) pairs is achieved using\n",
        "`G.adjacency()`, or `G.adj.items()`.\n",
        "Note that for undirected graphs, adjacency iteration sees each edge twice."
      ]
    },
    {
      "cell_type": "code",
      "execution_count": 26,
      "id": "62b95b99",
      "metadata": {
        "id": "62b95b99",
        "outputId": "319dfbb7-e0e3-4739-895a-2fc7521f4cf8",
        "colab": {
          "base_uri": "https://localhost:8080/"
        }
      },
      "outputs": [
        {
          "output_type": "stream",
          "name": "stdout",
          "text": [
            "(1, 2, 0.125)\n",
            "(2, 1, 0.125)\n",
            "(3, 4, 0.375)\n",
            "(4, 3, 0.375)\n"
          ]
        }
      ],
      "source": [
        "FG = nx.Graph()\n",
        "FG.add_weighted_edges_from([(1, 2, 0.125), (1, 3, 0.75), (2, 4, 1.2), (3, 4, 0.375)])\n",
        "for n, nbrs in FG.adj.items():\n",
        "   for nbr, eattr in nbrs.items():\n",
        "       wt = eattr['weight']\n",
        "       if wt < 0.5: print(f\"({n}, {nbr}, {wt:.3})\")"
      ]
    },
    {
      "cell_type": "markdown",
      "id": "f56f8bcf",
      "metadata": {
        "id": "f56f8bcf"
      },
      "source": [
        "Convenient access to all edges is achieved with the edges property."
      ]
    },
    {
      "cell_type": "code",
      "execution_count": 27,
      "id": "8c7dfafd",
      "metadata": {
        "id": "8c7dfafd",
        "outputId": "2df46f5f-cdc9-4929-a541-bd6f4c67058b",
        "colab": {
          "base_uri": "https://localhost:8080/"
        }
      },
      "outputs": [
        {
          "output_type": "stream",
          "name": "stdout",
          "text": [
            "(1, 2, 0.125)\n",
            "(3, 4, 0.375)\n"
          ]
        }
      ],
      "source": [
        "for (u, v, wt) in FG.edges.data('weight'):\n",
        "    if wt < 0.5:\n",
        "        print(f\"({u}, {v}, {wt:.3})\")"
      ]
    },
    {
      "cell_type": "markdown",
      "id": "18aed0b2",
      "metadata": {
        "id": "18aed0b2"
      },
      "source": [
        "# Adding attributes to graphs, nodes, and edges"
      ]
    },
    {
      "cell_type": "markdown",
      "source": [
        "Attributes such as weights, labels, colors, or whatever Python object you like,\n",
        "can be attached to graphs, nodes, or edges.\n",
        "\n",
        "Each graph, node, and edge can hold key/value attribute pairs in an associated\n",
        "attribute dictionary (the keys must be hashable).  By default these are empty,\n",
        "but attributes can be added or changed using `add_edge`, `add_node` or direct\n",
        "manipulation of the attribute dictionaries named `G.graph`, `G.nodes`, and\n",
        "`G.edges` for a graph `G`."
      ],
      "metadata": {
        "id": "sNeA9aBreJhD"
      },
      "id": "sNeA9aBreJhD"
    },
    {
      "cell_type": "markdown",
      "source": [
        "## Graph attributes"
      ],
      "metadata": {
        "id": "LBJwwDgfeHBG"
      },
      "id": "LBJwwDgfeHBG"
    },
    {
      "cell_type": "markdown",
      "source": [
        "Assign graph attributes when creating a new graph"
      ],
      "metadata": {
        "id": "0IHTiBDKekF0"
      },
      "id": "0IHTiBDKekF0"
    },
    {
      "cell_type": "code",
      "execution_count": 28,
      "id": "3052bf23",
      "metadata": {
        "id": "3052bf23",
        "outputId": "d4430d92-a768-4cae-d20a-a15ddf5c04d4",
        "colab": {
          "base_uri": "https://localhost:8080/"
        }
      },
      "outputs": [
        {
          "output_type": "execute_result",
          "data": {
            "text/plain": [
              "{'day': 'Friday'}"
            ]
          },
          "metadata": {},
          "execution_count": 28
        }
      ],
      "source": [
        "G = nx.Graph(day=\"Friday\")\n",
        "G.graph"
      ]
    },
    {
      "cell_type": "markdown",
      "id": "2679cefe",
      "metadata": {
        "id": "2679cefe"
      },
      "source": [
        "Or you can modify attributes later"
      ]
    },
    {
      "cell_type": "code",
      "execution_count": 29,
      "id": "700f8fa1",
      "metadata": {
        "id": "700f8fa1",
        "outputId": "aa4aafd1-9c1a-40e2-f01c-e51121d8a3af",
        "colab": {
          "base_uri": "https://localhost:8080/"
        }
      },
      "outputs": [
        {
          "output_type": "execute_result",
          "data": {
            "text/plain": [
              "{'day': 'Monday'}"
            ]
          },
          "metadata": {},
          "execution_count": 29
        }
      ],
      "source": [
        "G.graph['day'] = \"Monday\"\n",
        "G.graph"
      ]
    },
    {
      "cell_type": "markdown",
      "id": "bd957f6b",
      "metadata": {
        "id": "bd957f6b"
      },
      "source": [
        "## Node attributes"
      ]
    },
    {
      "cell_type": "markdown",
      "source": [
        "Add node attributes using `add_node()`, `add_nodes_from()`, or `G.nodes`"
      ],
      "metadata": {
        "id": "xFf56PxOe_PC"
      },
      "id": "xFf56PxOe_PC"
    },
    {
      "cell_type": "code",
      "execution_count": null,
      "id": "35a1a2d2",
      "metadata": {
        "id": "35a1a2d2"
      },
      "outputs": [],
      "source": [
        "G.add_node(1, time='5pm')\n",
        "G.add_nodes_from([3], time='2pm')\n",
        "G.nodes[1]\n",
        "# Output: {'time': '5pm'}\n",
        "\n",
        "G.nodes[1]['room'] = 714\n",
        "G.nodes.data()\n",
        "# Output: NodeDataView({1: {'time': '5pm', 'room': 714}, 3: {'time': '2pm'}})"
      ]
    },
    {
      "cell_type": "markdown",
      "source": [
        "Note that adding a node to `G.nodes` does not add it to the graph, use\n",
        "`G.add_node()` to add new nodes. Similarly for edges."
      ],
      "metadata": {
        "id": "r9D_JyDGfC8k"
      },
      "id": "r9D_JyDGfC8k"
    },
    {
      "cell_type": "markdown",
      "id": "eb02cd9e",
      "metadata": {
        "id": "eb02cd9e"
      },
      "source": [
        "## Edge Attributes"
      ]
    },
    {
      "cell_type": "markdown",
      "source": [
        "Add/change edge attributes using `add_edge()`, `add_edges_from()`,\n",
        "or subscript notation."
      ],
      "metadata": {
        "id": "5ONbe9BrfPBc"
      },
      "id": "5ONbe9BrfPBc"
    },
    {
      "cell_type": "code",
      "execution_count": 32,
      "id": "d3fca9bf",
      "metadata": {
        "id": "d3fca9bf"
      },
      "outputs": [],
      "source": [
        "G.add_edge(1, 2, weight=4.7 )\n",
        "G.add_edges_from([(3, 4), (4, 5)], color='red')\n",
        "G.add_edges_from([(1, 2, {'color': 'blue'}), (2, 3, {'weight': 8})])\n",
        "G[1][2]['weight'] = 4.7\n",
        "G.edges[3, 4]['weight'] = 4.2"
      ]
    },
    {
      "cell_type": "markdown",
      "source": [
        "The special attribute `weight` should be numeric as it is used by\n",
        "algorithms requiring weighted edges."
      ],
      "metadata": {
        "id": "_DBMZGZZfdTD"
      },
      "id": "_DBMZGZZfdTD"
    },
    {
      "cell_type": "markdown",
      "id": "c1f8be3b",
      "metadata": {
        "id": "c1f8be3b"
      },
      "source": [
        "# Directed graphs"
      ]
    },
    {
      "cell_type": "markdown",
      "source": [
        "The `DiGraph` class provides additional methods and properties specific\n",
        "to directed edges, e.g.,\n",
        "`DiGraph.out_edges`, `DiGraph.in_degree`,\n",
        "`DiGraph.predecessors`, `DiGraph.successors`, etc.\n",
        "To allow algorithms to work with both classes easily, the directed versions of\n",
        "`neighbors` is equivalent to\n",
        "`successors` while `degree` reports the sum\n",
        "of `in_degree` and `out_degree` even though that may feel inconsistent at times."
      ],
      "metadata": {
        "id": "d2m1u5mxfpFg"
      },
      "id": "d2m1u5mxfpFg"
    },
    {
      "cell_type": "code",
      "execution_count": null,
      "id": "32f966b2",
      "metadata": {
        "id": "32f966b2"
      },
      "outputs": [],
      "source": [
        "DG = nx.DiGraph()\n",
        "DG.add_weighted_edges_from([(1, 2, 0.5), (3, 1, 0.75)])\n",
        "DG.out_degree(1, weight='weight')\n",
        "# Output: 0.5\n",
        "\n",
        "DG.degree(1, weight='weight')\n",
        "# Output: 1.25\n",
        "\n",
        "list(DG.successors(1))\n",
        "# Output: [2]\n",
        "\n",
        "list(DG.neighbors(1))\n",
        "# Output: [2]\n"
      ]
    },
    {
      "cell_type": "markdown",
      "id": "0e2bd08b",
      "metadata": {
        "id": "0e2bd08b"
      },
      "source": [
        "Some algorithms work only for directed graphs and others are not well\n",
        "defined for directed graphs.  Indeed the tendency to lump directed\n",
        "and undirected graphs together is dangerous.  If you want to treat\n",
        "a directed graph as undirected for some measurement you should probably\n",
        "convert it using `Graph.to_undirected()` or with"
      ]
    },
    {
      "cell_type": "code",
      "execution_count": 35,
      "id": "dc4d6c19",
      "metadata": {
        "id": "dc4d6c19"
      },
      "outputs": [],
      "source": [
        "H = nx.Graph(G)  # create an undirected graph H from a directed graph G"
      ]
    },
    {
      "cell_type": "markdown",
      "id": "b03537fa",
      "metadata": {
        "id": "b03537fa"
      },
      "source": [
        "# Multigraphs"
      ]
    },
    {
      "cell_type": "markdown",
      "source": [
        "NetworkX provides classes for graphs which allow multiple edges\n",
        "between any pair of nodes.  The `MultiGraph` and\n",
        "`MultiDiGraph`\n",
        "classes allow you to add the same edge twice, possibly with different\n",
        "edge data.  This can be powerful for some applications, but many\n",
        "algorithms are not well defined on such graphs.\n",
        "Where results are well defined (\n",
        "e.g., `MultiGraph.degree()`), we provide the function.  Otherwise you\n",
        "should convert to a standard graph in a way that makes the measurement\n",
        "well defined."
      ],
      "metadata": {
        "id": "ry_ZzsB9geZf"
      },
      "id": "ry_ZzsB9geZf"
    },
    {
      "cell_type": "code",
      "execution_count": 37,
      "id": "4be9b5d8",
      "metadata": {
        "id": "4be9b5d8",
        "outputId": "1c47907f-0fa9-430f-d2cb-e59f3c5e3231",
        "colab": {
          "base_uri": "https://localhost:8080/"
        }
      },
      "outputs": [
        {
          "output_type": "execute_result",
          "data": {
            "text/plain": [
              "[1, 2, 3]"
            ]
          },
          "metadata": {},
          "execution_count": 37
        }
      ],
      "source": [
        "MG = nx.MultiGraph()\n",
        "MG.add_weighted_edges_from([(1, 2, 0.5), (1, 2, 0.75), (2, 3, 0.5)])\n",
        "dict(MG.degree(weight='weight'))\n",
        "# Output: {1: 1.25, 2: 1.75, 3: 0.5}\n",
        "\n",
        "GG = nx.Graph()\n",
        "for n, nbrs in MG.adjacency():\n",
        "   for nbr, edict in nbrs.items():\n",
        "       minvalue = min([d['weight'] for d in edict.values()])\n",
        "       GG.add_edge(n, nbr, weight = minvalue)\n",
        "\n",
        "nx.shortest_path(GG, 1, 3)\n",
        "# Output: [1, 2, 3]"
      ]
    },
    {
      "cell_type": "markdown",
      "id": "726038a5",
      "metadata": {
        "id": "726038a5"
      },
      "source": [
        "# Graph generators and graph operations"
      ]
    },
    {
      "cell_type": "markdown",
      "source": [
        "In addition to constructing graphs node-by-node or edge-by-edge, they\n",
        "can also be generated by:"
      ],
      "metadata": {
        "id": "zm75lLUhiGvJ"
      },
      "id": "zm75lLUhiGvJ"
    },
    {
      "cell_type": "markdown",
      "source": [
        "## 1. Applying classic graph operations, such as:"
      ],
      "metadata": {
        "id": "O6lAfWk0hUrc"
      },
      "id": "O6lAfWk0hUrc"
    },
    {
      "cell_type": "markdown",
      "source": [
        "`subgraph(G, nbunch)`: Returns the subgraph induced on nodes in nbunch.\n",
        "\n",
        "`union(G, H[, rename])`: Combine graphs G and H.\n",
        "\n",
        "`disjoint_union(G, H)`: Combine graphs G and H.\n",
        "\n",
        "`cartesian_product(G, H)`: Returns the Cartesian product of G and H.\n",
        "\n",
        "`compose(G, H)`: Compose graph G with H by combining nodes and edges into a single graph.\n",
        "\n",
        "`complement(G)`: Returns the graph complement of G.\n",
        "\n",
        "`create_empty_copy(G[, with_data])`: Returns a copy of the graph G with all of the edges removed.\n",
        "\n",
        "`to_undirected(graph)`: Returns an undirected view of the graph `graph`.\n",
        "\n",
        "`to_directed(graph)`: Returns a directed view of the graph `graph`."
      ],
      "metadata": {
        "id": "u0EzK6asiKmx"
      },
      "id": "u0EzK6asiKmx"
    },
    {
      "cell_type": "markdown",
      "source": [
        "## 2. Using a call to one of the classic small graphs:"
      ],
      "metadata": {
        "id": "ieNN2PaTiDE5"
      },
      "id": "ieNN2PaTiDE5"
    },
    {
      "cell_type": "markdown",
      "source": [
        "`petersen_graph([create_using])`: Returns the Petersen graph.\n",
        "\n",
        "`tutte_graph([create_using])`: Returns the Tutte graph.\n",
        "\n",
        "`sedgewick_maze_graph([create_using])`: Return a small maze with a cycle.\n",
        "\n",
        "`tetrahedral_graph([create_using])`: Returns the 3-regular Platonic Tetrahedral graph."
      ],
      "metadata": {
        "id": "ZJf4DjIkikyz"
      },
      "id": "ZJf4DjIkikyz"
    },
    {
      "cell_type": "markdown",
      "source": [
        "## 3. Using a (constructive) generator for a classic graph:"
      ],
      "metadata": {
        "id": "ZmHk64gOiP1H"
      },
      "id": "ZmHk64gOiP1H"
    },
    {
      "cell_type": "markdown",
      "source": [
        "`complete_graph(n[, create_using])`: Return the complete graph `K_n` with n nodes.\n",
        "\n",
        "`complete_bipartite_graph(n1, n2[, create_using])`: Returns the complete bipartite graph `K_{n_1,n_2}`.\n",
        "\n",
        "`barbell_graph(m1, m2[, create_using])`: Returns the Barbell Graph: two complete graphs connected by a path.\n",
        "\n",
        "`lollipop_graph(m, n[, create_using])`: Returns the Lollipop Graph; `K_m` connected to `P_n`."
      ],
      "metadata": {
        "id": "unHi5rIRir_e"
      },
      "id": "unHi5rIRir_e"
    },
    {
      "cell_type": "markdown",
      "source": [
        "like so:"
      ],
      "metadata": {
        "id": "79qQo8a-irCL"
      },
      "id": "79qQo8a-irCL"
    },
    {
      "cell_type": "code",
      "execution_count": 38,
      "id": "86a46bb3",
      "metadata": {
        "id": "86a46bb3"
      },
      "outputs": [],
      "source": [
        "K_5 = nx.complete_graph(5)\n",
        "K_3_5 = nx.complete_bipartite_graph(3, 5)\n",
        "barbell = nx.barbell_graph(10, 10)\n",
        "lollipop = nx.lollipop_graph(10, 20)"
      ]
    },
    {
      "cell_type": "markdown",
      "id": "5a30ec24",
      "metadata": {
        "id": "5a30ec24"
      },
      "source": [
        "## 4. Using a stochastic graph generator:"
      ]
    },
    {
      "cell_type": "markdown",
      "source": [
        "`erdos_renyi_graph(n, p[, seed, directed])`: Returns a *Gn,p* random graph, also known as an Erdős-Rényi graph or a binomial graph.\n",
        "\n",
        "`watts_strogatz_graph(n, k, p[, seed])`: Returns a Watts–Strogatz small-world graph.\n",
        "\n",
        "`barabasi_albert_graph(n, m[, seed, ...])`: Returns a random graph using Barabási–Albert preferential attachment\n",
        "\n",
        "`random_lobster(n, p1, p2[, seed])`: Returns a random lobster graph."
      ],
      "metadata": {
        "id": "qzpOqWh0jIdT"
      },
      "id": "qzpOqWh0jIdT"
    },
    {
      "cell_type": "markdown",
      "source": [
        "\n",
        "like so:"
      ],
      "metadata": {
        "id": "UY8Fbf7TjHsN"
      },
      "id": "UY8Fbf7TjHsN"
    },
    {
      "cell_type": "code",
      "execution_count": 39,
      "id": "0e7448b8",
      "metadata": {
        "id": "0e7448b8"
      },
      "outputs": [],
      "source": [
        "er = nx.erdos_renyi_graph(100, 0.15)\n",
        "ws = nx.watts_strogatz_graph(30, 3, 0.1)\n",
        "ba = nx.barabasi_albert_graph(100, 5)\n",
        "red = nx.random_lobster(100, 0.9, 0.9)"
      ]
    },
    {
      "cell_type": "markdown",
      "id": "fe5db6da",
      "metadata": {
        "id": "fe5db6da"
      },
      "source": [
        "## 5. Reading a graph stored in a file using common graph formats:"
      ]
    },
    {
      "cell_type": "markdown",
      "source": [
        "NetworkX supports many popular formats, such as edge lists, adjacency lists,\n",
        "GML, GraphML, LEDA and others."
      ],
      "metadata": {
        "id": "OefQam32jmjb"
      },
      "id": "OefQam32jmjb"
    },
    {
      "cell_type": "code",
      "execution_count": 40,
      "id": "17cd4d22",
      "metadata": {
        "id": "17cd4d22"
      },
      "outputs": [],
      "source": [
        "nx.write_gml(red, \"path.to.file\")\n",
        "mygraph = nx.read_gml(\"path.to.file\")"
      ]
    },
    {
      "cell_type": "markdown",
      "source": [
        "For details on graph formats see [Reading and writing graphs](https://networkx.org/documentation/stable/reference/readwrite/index.html) and for graph generator functions see [Graph generators](https://networkx.org/documentation/stable/reference/generators.html)."
      ],
      "metadata": {
        "id": "0pcbAFQjjuLC"
      },
      "id": "0pcbAFQjjuLC"
    },
    {
      "cell_type": "markdown",
      "id": "9cd5f370",
      "metadata": {
        "id": "9cd5f370"
      },
      "source": [
        "# Analyzing graphs"
      ]
    },
    {
      "cell_type": "markdown",
      "source": [
        "The structure of `G` can be analyzed using various graph-theoretic\n",
        "functions such as:"
      ],
      "metadata": {
        "id": "dr5pmoASj-Mc"
      },
      "id": "dr5pmoASj-Mc"
    },
    {
      "cell_type": "code",
      "execution_count": null,
      "id": "db3ba436",
      "metadata": {
        "id": "db3ba436"
      },
      "outputs": [],
      "source": [
        "G = nx.Graph()\n",
        "G.add_edges_from([(1, 2), (1, 3)])\n",
        "G.add_node(\"spam\")       # adds node \"spam\"\n",
        "list(nx.connected_components(G))\n",
        "# Output: [{1, 2, 3}, {'spam'}]\n",
        "\n",
        "sorted(d for n, d in G.degree())\n",
        "# Output: [0, 1, 1, 2]\n",
        "\n",
        "nx.clustering(G)\n",
        "# Output: {1: 0, 2: 0, 3: 0, 'spam': 0}"
      ]
    },
    {
      "cell_type": "markdown",
      "id": "65e59fe3",
      "metadata": {
        "id": "65e59fe3"
      },
      "source": [
        "Some functions with large output iterate over (node, value) 2-tuples.\n",
        "These are easily stored in a `dict` structure if you desire."
      ]
    },
    {
      "cell_type": "code",
      "execution_count": 43,
      "id": "28ce8d4f",
      "metadata": {
        "id": "28ce8d4f",
        "outputId": "bc9c30ad-e0e4-4aba-c9d7-b4f91f454bd7",
        "colab": {
          "base_uri": "https://localhost:8080/"
        }
      },
      "outputs": [
        {
          "output_type": "execute_result",
          "data": {
            "text/plain": [
              "{3: [3], 1: [3, 1], 2: [3, 1, 2]}"
            ]
          },
          "metadata": {},
          "execution_count": 43
        }
      ],
      "source": [
        "sp = dict(nx.all_pairs_shortest_path(G))\n",
        "sp[3]"
      ]
    },
    {
      "cell_type": "markdown",
      "source": [
        "See [Algorithms](https://networkx.org/documentation/stable/reference/algorithms/index.html) for details on graph algorithms\n",
        "supported."
      ],
      "metadata": {
        "id": "oRGda57kkR_Y"
      },
      "id": "oRGda57kkR_Y"
    },
    {
      "cell_type": "markdown",
      "id": "07307928",
      "metadata": {
        "id": "07307928"
      },
      "source": [
        "# Drawing graphs"
      ]
    },
    {
      "cell_type": "markdown",
      "source": [
        "NetworkX is not primarily a graph drawing package but basic drawing with\n",
        "Matplotlib as well as an interface to use the open source Graphviz software\n",
        "package are included.  These are part of the [networkx.drawing](https://networkx.org/documentation/stable/reference/drawing.html)\n",
        "module and will be imported if possible."
      ],
      "metadata": {
        "id": "LUEtPZgEkgMx"
      },
      "id": "LUEtPZgEkgMx"
    },
    {
      "cell_type": "markdown",
      "source": [
        "First import Matplotlib’s plot interface (pylab works too)"
      ],
      "metadata": {
        "id": "qi55awiZkqd9"
      },
      "id": "qi55awiZkqd9"
    },
    {
      "cell_type": "code",
      "execution_count": 44,
      "id": "66102b36",
      "metadata": {
        "id": "66102b36"
      },
      "outputs": [],
      "source": [
        "import matplotlib.pyplot as plt"
      ]
    },
    {
      "cell_type": "markdown",
      "id": "2e459ebe",
      "metadata": {
        "id": "2e459ebe"
      },
      "source": [
        "To test if the import of `nx_pylab` was successful draw `G`\n",
        "using one of"
      ]
    },
    {
      "cell_type": "code",
      "execution_count": 45,
      "id": "863abfbe",
      "metadata": {
        "id": "863abfbe",
        "outputId": "70073d8b-0437-4d09-9058-f52c718df41e",
        "colab": {
          "base_uri": "https://localhost:8080/",
          "height": 248
        }
      },
      "outputs": [
        {
          "output_type": "display_data",
          "data": {
            "text/plain": [
              "<Figure size 432x288 with 2 Axes>"
            ],
            "image/png": "[encoded data removed]"
          },
          "metadata": {}
        }
      ],
      "source": [
        "G = nx.petersen_graph()\n",
        "subax1 = plt.subplot(121)\n",
        "nx.draw(G, with_labels=True, font_weight='bold')\n",
        "subax2 = plt.subplot(122)\n",
        "nx.draw_shell(G, nlist=[range(5, 10), range(5)], with_labels=True, font_weight='bold')"
      ]
    },
    {
      "cell_type": "markdown",
      "id": "714d9f4c",
      "metadata": {
        "id": "714d9f4c"
      },
      "source": [
        "when drawing to an interactive display.  Note that you may need to issue a\n",
        "Matplotlib"
      ]
    },
    {
      "cell_type": "code",
      "execution_count": 46,
      "id": "46fd502c",
      "metadata": {
        "id": "46fd502c"
      },
      "outputs": [],
      "source": [
        "plt.show()"
      ]
    },
    {
      "cell_type": "markdown",
      "id": "b0da86b1",
      "metadata": {
        "id": "b0da86b1"
      },
      "source": [
        "command if you are not using matplotlib in interactive mode."
      ]
    },
    {
      "cell_type": "code",
      "execution_count": 47,
      "id": "6dfe7d11",
      "metadata": {
        "id": "6dfe7d11",
        "outputId": "998b2031-b2f3-427e-b2ab-c9e0ba873416",
        "colab": {
          "base_uri": "https://localhost:8080/",
          "height": 248
        }
      },
      "outputs": [
        {
          "output_type": "display_data",
          "data": {
            "text/plain": [
              "<Figure size 432x288 with 4 Axes>"
            ],
            "image/png": "[encoded data removed]"
          },
          "metadata": {}
        }
      ],
      "source": [
        "options = {\n",
        "    'node_color': 'black',\n",
        "    'node_size': 100,\n",
        "    'width': 3,\n",
        "}\n",
        "subax1 = plt.subplot(221)\n",
        "nx.draw_random(G, **options)\n",
        "subax2 = plt.subplot(222)\n",
        "nx.draw_circular(G, **options)\n",
        "subax3 = plt.subplot(223)\n",
        "nx.draw_spectral(G, **options)\n",
        "subax4 = plt.subplot(224)\n",
        "nx.draw_shell(G, nlist=[range(5,10), range(5)], **options)"
      ]
    },
    {
      "cell_type": "markdown",
      "id": "2021ecbc",
      "metadata": {
        "id": "2021ecbc"
      },
      "source": [
        "You can find additional options via `draw_networkx()` and\n",
        "layouts via the `layout module`.\n",
        "You can use multiple shells with `draw_shell()`."
      ]
    },
    {
      "cell_type": "code",
      "execution_count": 48,
      "id": "19933860",
      "metadata": {
        "id": "19933860",
        "outputId": "21d52eba-6c91-40f8-9baa-2d8c6b3fcb24",
        "colab": {
          "base_uri": "https://localhost:8080/",
          "height": 319
        }
      },
      "outputs": [
        {
          "output_type": "display_data",
          "data": {
            "text/plain": [
              "<Figure size 432x288 with 1 Axes>"
            ],
            "image/png": "[encoded data removed]"
          },
          "metadata": {}
        }
      ],
      "source": [
        "G = nx.dodecahedral_graph()\n",
        "shells = [[2, 3, 4, 5, 6], [8, 1, 0, 19, 18, 17, 16, 15, 14, 7], [9, 10, 11, 12, 13]]\n",
        "nx.draw_shell(G, nlist=shells, **options)"
      ]
    },
    {
      "cell_type": "markdown",
      "id": "f9571163",
      "metadata": {
        "id": "f9571163"
      },
      "source": [
        "To save drawings to a file, use, for example"
      ]
    },
    {
      "cell_type": "code",
      "execution_count": 49,
      "id": "a1c7a8d8",
      "metadata": {
        "id": "a1c7a8d8",
        "outputId": "4a0be6a1-d2ca-48bf-94ef-848e0cb35062",
        "colab": {
          "base_uri": "https://localhost:8080/",
          "height": 319
        }
      },
      "outputs": [
        {
          "output_type": "display_data",
          "data": {
            "text/plain": [
              "<Figure size 432x288 with 1 Axes>"
            ],
            "image/png": "[encoded data removed]"
          },
          "metadata": {}
        }
      ],
      "source": [
        "nx.draw(G)\n",
        "# plt.savefig(\"path.png\")"
      ]
    },
    {
      "cell_type": "markdown",
      "id": "42819520",
      "metadata": {
        "id": "42819520"
      },
      "source": [
        "This function writes to the file `path.png` in the local directory. If Graphviz and\n",
        "PyGraphviz or pydot, are available on your system, you can also use\n",
        "`networkx.drawing.nx_agraph.graphviz_layout` or\n",
        "`networkx.drawing.nx_pydot.graphviz_layout` to get the node positions, or write\n",
        "the graph in dot format for further processing."
      ]
    },
    {
      "cell_type": "code",
      "execution_count": null,
      "id": "fcb42395",
      "metadata": {
        "id": "fcb42395"
      },
      "outputs": [],
      "source": [
        "from networkx.drawing.nx_pydot import write_dot\n",
        "pos = nx.nx_agraph.graphviz_layout(G)\n",
        "nx.draw(G, pos=pos)\n",
        "write_dot(G, 'file.dot')"
      ]
    },
    {
      "cell_type": "markdown",
      "id": "5fa636f9",
      "metadata": {
        "id": "5fa636f9"
      },
      "source": [
        "See [Drawing](https://networkx.org/documentation/stable/reference/drawing.html) for additional details."
      ]
    }
  ],
  "metadata": {
    "colab": {
      "provenance": []
    },
    "language_info": {
      "name": "python"
    },
    "kernelspec": {
      "name": "python3",
      "display_name": "Python 3"
    },
    "gpuClass": "standard"
  },
  "nbformat": 4,
  "nbformat_minor": 5
}