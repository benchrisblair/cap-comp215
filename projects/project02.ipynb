{
  "nbformat": 4,
  "nbformat_minor": 0,
  "metadata": {
    "colab": {
      "provenance": [],
      "authorship_tag": "ABX9TyOVd+PtG/pz2wfZclqvzKIE"
    },
    "kernelspec": {
      "name": "python3",
      "display_name": "Python 3"
    },
    "language_info": {
      "name": "python"
    }
  },
  "cells": [
    {
      "cell_type": "markdown",
      "source": [
        "#### COMP 215 - Project 02\n",
        "\n",
        "# Extending the Forest Fire Model\n",
        "\n",
        "#### Name: Ben Blair\n",
        "#### Date: 13/04/2023\n",
        "\n",
        "## Project Description:\n",
        "\n",
        "## Instructions:"
      ],
      "metadata": {
        "id": "-lsZqQ8yDvrD"
      }
    },
    {
      "cell_type": "code",
      "execution_count": null,
      "metadata": {
        "id": "JpNnTRDiDqnZ"
      },
      "outputs": [],
      "source": []
    }
  ]
}