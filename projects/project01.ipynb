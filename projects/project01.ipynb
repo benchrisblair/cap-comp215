{
  "nbformat": 4,
  "nbformat_minor": 0,
  "metadata": {
    "colab": {
      "provenance": [],
      "authorship_tag": "ABX9TyMPw+d8y1l3H1WijO8BYgWF"
    },
    "kernelspec": {
      "name": "python3",
      "display_name": "Python 3"
    },
    "language_info": {
      "name": "python"
    }
  },
  "cells": [
    {
      "cell_type": "markdown",
      "source": [
        "# COMP 215 - Project 01\n",
        "\n",
        "#### Name: Ben Blair\n",
        "#### Date: 27/02/2023"
      ],
      "metadata": {
        "id": "ehy2N_MA4Oty"
      }
    },
    {
      "cell_type": "code",
      "execution_count": null,
      "metadata": {
        "id": "lOQEG2Me4GrB"
      },
      "outputs": [],
      "source": []
    }
  ]
}